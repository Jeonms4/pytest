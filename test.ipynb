{
  "nbformat": 4,
  "nbformat_minor": 0,
  "metadata": {
    "colab": {
      "provenance": [],
      "authorship_tag": "ABX9TyP9FcMiRFekqUEOlMOdVZtG",
      "include_colab_link": true
    },
    "kernelspec": {
      "name": "python3",
      "display_name": "Python 3"
    },
    "language_info": {
      "name": "python"
    }
  },
  "cells": [
    {
      "cell_type": "markdown",
      "metadata": {
        "id": "view-in-github",
        "colab_type": "text"
      },
      "source": [
        "<a href=\"https://colab.research.google.com/github/Jeonms4/pytest/blob/main/test.ipynb\" target=\"_parent\"><img src=\"https://colab.research.google.com/assets/colab-badge.svg\" alt=\"Open In Colab\"/></a>"
      ]
    },
    {
      "cell_type": "code",
      "execution_count": 1,
      "metadata": {
        "id": "j5Ar7CEpXHNU"
      },
      "outputs": [],
      "source": [
        "#help(set)"
      ]
    },
    {
      "cell_type": "code",
      "source": [
        "# 함수"
      ],
      "metadata": {
        "id": "tTFpCfAFXMDJ"
      },
      "execution_count": 2,
      "outputs": []
    },
    {
      "cell_type": "code",
      "source": [
        "def f1():\n",
        "  print(\"hi\")"
      ],
      "metadata": {
        "id": "hxwR3iHMXNlh"
      },
      "execution_count": 3,
      "outputs": []
    },
    {
      "cell_type": "code",
      "source": [
        "f1()"
      ],
      "metadata": {
        "colab": {
          "base_uri": "https://localhost:8080/"
        },
        "id": "pB-c90VCXQRw",
        "outputId": "db839af6-52db-40f0-b7b4-65c82f20d25b"
      },
      "execution_count": 5,
      "outputs": [
        {
          "output_type": "stream",
          "name": "stdout",
          "text": [
            "hi\n"
          ]
        }
      ]
    },
    {
      "cell_type": "code",
      "source": [
        "def f1(gift):\n",
        "  print(gift)"
      ],
      "metadata": {
        "id": "vbOk8NBSXRpQ"
      },
      "execution_count": 6,
      "outputs": []
    },
    {
      "cell_type": "code",
      "source": [
        "f1(\"하이\")"
      ],
      "metadata": {
        "colab": {
          "base_uri": "https://localhost:8080/"
        },
        "id": "rhA9nYxlXWyY",
        "outputId": "c6fbaf81-d9ee-4822-80d9-1d59d6cbf8d7"
      },
      "execution_count": 7,
      "outputs": [
        {
          "output_type": "stream",
          "name": "stdout",
          "text": [
            "하이\n"
          ]
        }
      ]
    },
    {
      "cell_type": "code",
      "source": [
        "def f2(gift):\n",
        "  print(\"%s을 잘받았습니다\" %gift)"
      ],
      "metadata": {
        "id": "aZmWJhaeXX17"
      },
      "execution_count": 8,
      "outputs": []
    },
    {
      "cell_type": "code",
      "source": [
        "f2(\"hi\")"
      ],
      "metadata": {
        "colab": {
          "base_uri": "https://localhost:8080/"
        },
        "id": "K0X9T8XCYBwQ",
        "outputId": "ef6f6156-3b7f-4a27-b1e3-a641bcc16a4c"
      },
      "execution_count": 9,
      "outputs": [
        {
          "output_type": "stream",
          "name": "stdout",
          "text": [
            "hi을 잘받았습니다\n"
          ]
        }
      ]
    },
    {
      "cell_type": "code",
      "source": [
        "def f2(gift, count):\n",
        "  print(\"%s을 잘받았습니다\" %gift)\n",
        "  print(\"%d개 받았습니다\" %count)"
      ],
      "metadata": {
        "id": "rcdDk3P2YCbw"
      },
      "execution_count": 10,
      "outputs": []
    },
    {
      "cell_type": "code",
      "source": [
        "f2(\"과자\", 4)"
      ],
      "metadata": {
        "colab": {
          "base_uri": "https://localhost:8080/"
        },
        "id": "_6p0r8GSYbhB",
        "outputId": "dd4717c7-1a6a-4681-d9ea-1f31b8739f9b"
      },
      "execution_count": 11,
      "outputs": [
        {
          "output_type": "stream",
          "name": "stdout",
          "text": [
            "과자을 잘받았습니다\n",
            "4개 받았습니다\n"
          ]
        }
      ]
    },
    {
      "cell_type": "code",
      "source": [
        "def f3():\n",
        "  return \"짜장\""
      ],
      "metadata": {
        "id": "hwXJdWPPYco4"
      },
      "execution_count": 12,
      "outputs": []
    },
    {
      "cell_type": "code",
      "source": [
        "menu=f3()"
      ],
      "metadata": {
        "id": "plclWnBtY9-Y"
      },
      "execution_count": 13,
      "outputs": []
    },
    {
      "cell_type": "code",
      "source": [
        "print(menu)"
      ],
      "metadata": {
        "colab": {
          "base_uri": "https://localhost:8080/"
        },
        "id": "dPU3tl_vZAWg",
        "outputId": "50cd5af0-82fe-4126-aa3c-ac051c115b5e"
      },
      "execution_count": 14,
      "outputs": [
        {
          "output_type": "stream",
          "name": "stdout",
          "text": [
            "짜장\n"
          ]
        }
      ]
    },
    {
      "cell_type": "code",
      "source": [
        "def f4(gift):\n",
        "  print(gift)\n",
        "  return 55"
      ],
      "metadata": {
        "id": "meJmgaaYZBfo"
      },
      "execution_count": 15,
      "outputs": []
    },
    {
      "cell_type": "code",
      "source": [
        "num1=f4('사탕')"
      ],
      "metadata": {
        "colab": {
          "base_uri": "https://localhost:8080/"
        },
        "id": "qq71YIRhZFKY",
        "outputId": "3dd12304-f19d-43af-e25f-42d0a1d07287"
      },
      "execution_count": 16,
      "outputs": [
        {
          "output_type": "stream",
          "name": "stdout",
          "text": [
            "사탕\n"
          ]
        }
      ]
    },
    {
      "cell_type": "code",
      "source": [
        "num1"
      ],
      "metadata": {
        "colab": {
          "base_uri": "https://localhost:8080/"
        },
        "id": "-ubw33LxZGzB",
        "outputId": "7ca075be-36a7-42df-c8a9-d2b50a3a55c8"
      },
      "execution_count": 17,
      "outputs": [
        {
          "output_type": "execute_result",
          "data": {
            "text/plain": [
              "55"
            ]
          },
          "metadata": {},
          "execution_count": 17
        }
      ]
    },
    {
      "cell_type": "code",
      "source": [
        "class Car:\n",
        "  def __init__(self, color):\n",
        "    self.color=color\n",
        "  def run(self):\n",
        "    print(\"달림\")"
      ],
      "metadata": {
        "id": "gcY3Qb5bZIiv"
      },
      "execution_count": 25,
      "outputs": []
    },
    {
      "cell_type": "code",
      "source": [
        "myCar=Car(\"red\")"
      ],
      "metadata": {
        "id": "sLAqoS1-Zq0p"
      },
      "execution_count": 27,
      "outputs": []
    },
    {
      "cell_type": "code",
      "source": [
        "type(myCar)"
      ],
      "metadata": {
        "colab": {
          "base_uri": "https://localhost:8080/",
          "height": 104
        },
        "id": "_OxFmchKah5Q",
        "outputId": "dae3ec53-a444-4166-f790-a0d531c43e81"
      },
      "execution_count": 28,
      "outputs": [
        {
          "output_type": "execute_result",
          "data": {
            "text/plain": [
              "__main__.Car"
            ],
            "text/html": [
              "<div style=\"max-width:800px; border: 1px solid var(--colab-border-color);\"><style>\n",
              "      pre.function-repr-contents {\n",
              "        overflow-x: auto;\n",
              "        padding: 8px 12px;\n",
              "        max-height: 500px;\n",
              "      }\n",
              "\n",
              "      pre.function-repr-contents.function-repr-contents-collapsed {\n",
              "        cursor: pointer;\n",
              "        max-height: 100px;\n",
              "      }\n",
              "    </style>\n",
              "    <pre style=\"white-space: initial; background:\n",
              "         var(--colab-secondary-surface-color); padding: 8px 12px;\n",
              "         border-bottom: 1px solid var(--colab-border-color);\"><b>Car</b><br/>def __init__(color)</pre><pre class=\"function-repr-contents function-repr-contents-collapsed\" style=\"\"><a class=\"filepath\" style=\"display:none\" href=\"#\"></a>&lt;no docstring&gt;</pre></div>"
            ]
          },
          "metadata": {},
          "execution_count": 28
        }
      ]
    },
    {
      "cell_type": "code",
      "source": [
        "myCar.color"
      ],
      "metadata": {
        "colab": {
          "base_uri": "https://localhost:8080/",
          "height": 35
        },
        "id": "3M2QFHeTbBCw",
        "outputId": "18303c40-1fd8-44f6-d213-6cde41f2e232"
      },
      "execution_count": 29,
      "outputs": [
        {
          "output_type": "execute_result",
          "data": {
            "text/plain": [
              "'red'"
            ],
            "application/vnd.google.colaboratory.intrinsic+json": {
              "type": "string"
            }
          },
          "metadata": {},
          "execution_count": 29
        }
      ]
    },
    {
      "cell_type": "code",
      "source": [
        "myCar.run()"
      ],
      "metadata": {
        "colab": {
          "base_uri": "https://localhost:8080/"
        },
        "id": "qr9yoR-LbB2H",
        "outputId": "d24ba316-374d-4e96-95f7-6eb10b17c189"
      },
      "execution_count": 30,
      "outputs": [
        {
          "output_type": "stream",
          "name": "stdout",
          "text": [
            "달림\n"
          ]
        }
      ]
    },
    {
      "cell_type": "code",
      "source": [],
      "metadata": {
        "id": "2LBowYWpbCtI"
      },
      "execution_count": null,
      "outputs": []
    }
  ]
}