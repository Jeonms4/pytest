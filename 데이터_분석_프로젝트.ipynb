{
  "cells": [
    {
      "cell_type": "markdown",
      "metadata": {
        "id": "view-in-github",
        "colab_type": "text"
      },
      "source": [
        "<a href=\"https://colab.research.google.com/github/Jeonms4/pytest/blob/main/%EB%8D%B0%EC%9D%B4%ED%84%B0_%EB%B6%84%EC%84%9D_%ED%94%84%EB%A1%9C%EC%A0%9D%ED%8A%B8.ipynb\" target=\"_parent\"><img src=\"https://colab.research.google.com/assets/colab-badge.svg\" alt=\"Open In Colab\"/></a>"
      ]
    },
    {
      "cell_type": "markdown",
      "id": "16d601de-d6ff-4a0b-bb09-dca9af33dd74",
      "metadata": {
        "id": "16d601de-d6ff-4a0b-bb09-dca9af33dd74"
      },
      "source": [
        "데이터 분석 프로세스"
      ]
    },
    {
      "cell_type": "code",
      "execution_count": null,
      "id": "882a5d93-d1da-4f8c-9201-6da41ed35234",
      "metadata": {
        "id": "882a5d93-d1da-4f8c-9201-6da41ed35234"
      },
      "outputs": [],
      "source": [
        "import requests"
      ]
    },
    {
      "cell_type": "code",
      "execution_count": null,
      "id": "3b27c9aa-3e50-4482-84a8-cecd6e09c639",
      "metadata": {
        "id": "3b27c9aa-3e50-4482-84a8-cecd6e09c639"
      },
      "outputs": [],
      "source": [
        "url = 'https://github.com/wikibook/python-for-data-analysis-rev/raw/master/readme.txt'"
      ]
    },
    {
      "cell_type": "code",
      "execution_count": null,
      "id": "795f3ae3-b858-4f8e-9c66-bc24c56c37e9",
      "metadata": {
        "id": "795f3ae3-b858-4f8e-9c66-bc24c56c37e9"
      },
      "outputs": [],
      "source": [
        "r = requests.get(url)"
      ]
    },
    {
      "cell_type": "code",
      "execution_count": null,
      "id": "505a1bb4-6a0d-4673-9d24-638ec2699109",
      "metadata": {
        "id": "505a1bb4-6a0d-4673-9d24-638ec2699109"
      },
      "outputs": [],
      "source": [
        "file_name = 'C:/myPyCode/data/readme.txt'"
      ]
    },
    {
      "cell_type": "code",
      "execution_count": null,
      "id": "ec5f0e95-8603-4c1f-bb91-bfa831e41ddc",
      "metadata": {
        "id": "ec5f0e95-8603-4c1f-bb91-bfa831e41ddc"
      },
      "outputs": [],
      "source": [
        "with open(file_name, 'wb') as f:\n",
        "    f.write(r.content)"
      ]
    },
    {
      "cell_type": "code",
      "execution_count": null,
      "id": "a64aaf6a-6a04-4418-b8c5-2721d17931a4",
      "metadata": {
        "id": "a64aaf6a-6a04-4418-b8c5-2721d17931a4"
      },
      "outputs": [],
      "source": [
        "import os"
      ]
    },
    {
      "cell_type": "code",
      "execution_count": null,
      "id": "60f98c08-abd1-41a4-b6a5-608e8c41fff8",
      "metadata": {
        "id": "60f98c08-abd1-41a4-b6a5-608e8c41fff8",
        "outputId": "4b5506ee-0856-4d09-82c5-41c9821c0476"
      },
      "outputs": [
        {
          "name": "stdout",
          "output_type": "stream",
          "text": [
            "����,��ǰ1,��ǰ2,��ǰ3,��ǰ4\n",
            "2015,250,150,,\n",
            "2016,200,160,170,\n",
            "2017,150,200,100,150\n",
            "2018,120,230,130,170\n",
            "2019,,250,140,\n"
          ]
        }
      ],
      "source": [
        "!type C:\\myPyCode\\data\\missing_data_test.csv"
      ]
    },
    {
      "cell_type": "code",
      "execution_count": null,
      "id": "f20cec00-f0a3-4f51-aa57-9b5977156e36",
      "metadata": {
        "id": "f20cec00-f0a3-4f51-aa57-9b5977156e36",
        "outputId": "230ece64-3cb1-43f7-ffc1-2359e76065fa"
      },
      "outputs": [
        {
          "data": {
            "text/html": [
              "<div>\n",
              "<style scoped>\n",
              "    .dataframe tbody tr th:only-of-type {\n",
              "        vertical-align: middle;\n",
              "    }\n",
              "\n",
              "    .dataframe tbody tr th {\n",
              "        vertical-align: top;\n",
              "    }\n",
              "\n",
              "    .dataframe thead th {\n",
              "        text-align: right;\n",
              "    }\n",
              "</style>\n",
              "<table border=\"1\" class=\"dataframe\">\n",
              "  <thead>\n",
              "    <tr style=\"text-align: right;\">\n",
              "      <th></th>\n",
              "      <th>연도</th>\n",
              "      <th>제품1</th>\n",
              "      <th>제품2</th>\n",
              "      <th>제품3</th>\n",
              "      <th>제품4</th>\n",
              "    </tr>\n",
              "  </thead>\n",
              "  <tbody>\n",
              "    <tr>\n",
              "      <th>0</th>\n",
              "      <td>2015</td>\n",
              "      <td>250.0</td>\n",
              "      <td>150</td>\n",
              "      <td>NaN</td>\n",
              "      <td>NaN</td>\n",
              "    </tr>\n",
              "    <tr>\n",
              "      <th>1</th>\n",
              "      <td>2016</td>\n",
              "      <td>200.0</td>\n",
              "      <td>160</td>\n",
              "      <td>170.0</td>\n",
              "      <td>NaN</td>\n",
              "    </tr>\n",
              "    <tr>\n",
              "      <th>2</th>\n",
              "      <td>2017</td>\n",
              "      <td>150.0</td>\n",
              "      <td>200</td>\n",
              "      <td>100.0</td>\n",
              "      <td>150.0</td>\n",
              "    </tr>\n",
              "    <tr>\n",
              "      <th>3</th>\n",
              "      <td>2018</td>\n",
              "      <td>120.0</td>\n",
              "      <td>230</td>\n",
              "      <td>130.0</td>\n",
              "      <td>170.0</td>\n",
              "    </tr>\n",
              "    <tr>\n",
              "      <th>4</th>\n",
              "      <td>2019</td>\n",
              "      <td>NaN</td>\n",
              "      <td>250</td>\n",
              "      <td>140.0</td>\n",
              "      <td>NaN</td>\n",
              "    </tr>\n",
              "  </tbody>\n",
              "</table>\n",
              "</div>"
            ],
            "text/plain": [
              "     연도    제품1  제품2    제품3    제품4\n",
              "0  2015  250.0  150    NaN    NaN\n",
              "1  2016  200.0  160  170.0    NaN\n",
              "2  2017  150.0  200  100.0  150.0\n",
              "3  2018  120.0  230  130.0  170.0\n",
              "4  2019    NaN  250  140.0    NaN"
            ]
          },
          "execution_count": 19,
          "metadata": {},
          "output_type": "execute_result"
        }
      ],
      "source": [
        "import pandas as pd\n",
        "data_file = \"C:/myPyCode/data/missing_data_test.csv\"\n",
        "df=pd.read_csv(data_file, encoding='cp949')\n",
        "df"
      ]
    },
    {
      "cell_type": "code",
      "execution_count": null,
      "id": "afc43c28-a5ec-4b8f-8de3-383cd079951f",
      "metadata": {
        "id": "afc43c28-a5ec-4b8f-8de3-383cd079951f",
        "outputId": "c70cf17c-aefb-4cf8-fe2c-6b95cb732e20"
      },
      "outputs": [
        {
          "name": "stdout",
          "output_type": "stream",
          "text": [
            "Help on method set_index in module pandas.core.frame:\n",
            "\n",
            "set_index(keys, *, drop: 'bool' = True, append: 'bool' = False, inplace: 'bool' = False, verify_integrity: 'bool' = False) -> 'DataFrame | None' method of pandas.core.frame.DataFrame instance\n",
            "    Set the DataFrame index using existing columns.\n",
            "    \n",
            "    Set the DataFrame index (row labels) using one or more existing\n",
            "    columns or arrays (of the correct length). The index can replace the\n",
            "    existing index or expand on it.\n",
            "    \n",
            "    Parameters\n",
            "    ----------\n",
            "    keys : label or array-like or list of labels/arrays\n",
            "        This parameter can be either a single column key, a single array of\n",
            "        the same length as the calling DataFrame, or a list containing an\n",
            "        arbitrary combination of column keys and arrays. Here, \"array\"\n",
            "        encompasses :class:`Series`, :class:`Index`, ``np.ndarray``, and\n",
            "        instances of :class:`~collections.abc.Iterator`.\n",
            "    drop : bool, default True\n",
            "        Delete columns to be used as the new index.\n",
            "    append : bool, default False\n",
            "        Whether to append columns to existing index.\n",
            "    inplace : bool, default False\n",
            "        Whether to modify the DataFrame rather than creating a new one.\n",
            "    verify_integrity : bool, default False\n",
            "        Check the new index for duplicates. Otherwise defer the check until\n",
            "        necessary. Setting to False will improve the performance of this\n",
            "        method.\n",
            "    \n",
            "    Returns\n",
            "    -------\n",
            "    DataFrame or None\n",
            "        Changed row labels or None if ``inplace=True``.\n",
            "    \n",
            "    See Also\n",
            "    --------\n",
            "    DataFrame.reset_index : Opposite of set_index.\n",
            "    DataFrame.reindex : Change to new indices or expand indices.\n",
            "    DataFrame.reindex_like : Change to same indices as other DataFrame.\n",
            "    \n",
            "    Examples\n",
            "    --------\n",
            "    >>> df = pd.DataFrame({'month': [1, 4, 7, 10],\n",
            "    ...                    'year': [2012, 2014, 2013, 2014],\n",
            "    ...                    'sale': [55, 40, 84, 31]})\n",
            "    >>> df\n",
            "       month  year  sale\n",
            "    0      1  2012    55\n",
            "    1      4  2014    40\n",
            "    2      7  2013    84\n",
            "    3     10  2014    31\n",
            "    \n",
            "    Set the index to become the 'month' column:\n",
            "    \n",
            "    >>> df.set_index('month')\n",
            "           year  sale\n",
            "    month\n",
            "    1      2012    55\n",
            "    4      2014    40\n",
            "    7      2013    84\n",
            "    10     2014    31\n",
            "    \n",
            "    Create a MultiIndex using columns 'year' and 'month':\n",
            "    \n",
            "    >>> df.set_index(['year', 'month'])\n",
            "                sale\n",
            "    year  month\n",
            "    2012  1     55\n",
            "    2014  4     40\n",
            "    2013  7     84\n",
            "    2014  10    31\n",
            "    \n",
            "    Create a MultiIndex using an Index and a column:\n",
            "    \n",
            "    >>> df.set_index([pd.Index([1, 2, 3, 4]), 'year'])\n",
            "             month  sale\n",
            "       year\n",
            "    1  2012  1      55\n",
            "    2  2014  4      40\n",
            "    3  2013  7      84\n",
            "    4  2014  10     31\n",
            "    \n",
            "    Create a MultiIndex using two Series:\n",
            "    \n",
            "    >>> s = pd.Series([1, 2, 3, 4])\n",
            "    >>> df.set_index([s, s**2])\n",
            "          month  year  sale\n",
            "    1 1       1  2012    55\n",
            "    2 4       4  2014    40\n",
            "    3 9       7  2013    84\n",
            "    4 16     10  2014    31\n",
            "\n"
          ]
        }
      ],
      "source": [
        "help(df.set_index)"
      ]
    },
    {
      "cell_type": "code",
      "execution_count": null,
      "id": "ba28ae89-5216-4743-bbe7-d821364eda9c",
      "metadata": {
        "id": "ba28ae89-5216-4743-bbe7-d821364eda9c",
        "outputId": "d735e9d6-0650-4b16-aab1-4d57fbc77990"
      },
      "outputs": [
        {
          "data": {
            "text/html": [
              "<div>\n",
              "<style scoped>\n",
              "    .dataframe tbody tr th:only-of-type {\n",
              "        vertical-align: middle;\n",
              "    }\n",
              "\n",
              "    .dataframe tbody tr th {\n",
              "        vertical-align: top;\n",
              "    }\n",
              "\n",
              "    .dataframe thead th {\n",
              "        text-align: right;\n",
              "    }\n",
              "</style>\n",
              "<table border=\"1\" class=\"dataframe\">\n",
              "  <thead>\n",
              "    <tr style=\"text-align: right;\">\n",
              "      <th></th>\n",
              "      <th>제품1</th>\n",
              "      <th>제품2</th>\n",
              "      <th>제품3</th>\n",
              "      <th>제품4</th>\n",
              "    </tr>\n",
              "    <tr>\n",
              "      <th>연도</th>\n",
              "      <th></th>\n",
              "      <th></th>\n",
              "      <th></th>\n",
              "      <th></th>\n",
              "    </tr>\n",
              "  </thead>\n",
              "  <tbody>\n",
              "    <tr>\n",
              "      <th>2015</th>\n",
              "      <td>250.0</td>\n",
              "      <td>150</td>\n",
              "      <td>NaN</td>\n",
              "      <td>NaN</td>\n",
              "    </tr>\n",
              "    <tr>\n",
              "      <th>2016</th>\n",
              "      <td>200.0</td>\n",
              "      <td>160</td>\n",
              "      <td>170.0</td>\n",
              "      <td>NaN</td>\n",
              "    </tr>\n",
              "    <tr>\n",
              "      <th>2017</th>\n",
              "      <td>150.0</td>\n",
              "      <td>200</td>\n",
              "      <td>100.0</td>\n",
              "      <td>150.0</td>\n",
              "    </tr>\n",
              "    <tr>\n",
              "      <th>2018</th>\n",
              "      <td>120.0</td>\n",
              "      <td>230</td>\n",
              "      <td>130.0</td>\n",
              "      <td>170.0</td>\n",
              "    </tr>\n",
              "    <tr>\n",
              "      <th>2019</th>\n",
              "      <td>NaN</td>\n",
              "      <td>250</td>\n",
              "      <td>140.0</td>\n",
              "      <td>NaN</td>\n",
              "    </tr>\n",
              "  </tbody>\n",
              "</table>\n",
              "</div>"
            ],
            "text/plain": [
              "        제품1  제품2    제품3    제품4\n",
              "연도                            \n",
              "2015  250.0  150    NaN    NaN\n",
              "2016  200.0  160  170.0    NaN\n",
              "2017  150.0  200  100.0  150.0\n",
              "2018  120.0  230  130.0  170.0\n",
              "2019    NaN  250  140.0    NaN"
            ]
          },
          "execution_count": 46,
          "metadata": {},
          "output_type": "execute_result"
        }
      ],
      "source": [
        "df.set_index('연도')"
      ]
    },
    {
      "cell_type": "code",
      "execution_count": null,
      "id": "87d3f10c-9c65-4e57-8082-8d2fb903887f",
      "metadata": {
        "id": "87d3f10c-9c65-4e57-8082-8d2fb903887f",
        "outputId": "4f9dc290-0526-401b-b383-a8fe5a2410d6"
      },
      "outputs": [
        {
          "data": {
            "text/html": [
              "<div>\n",
              "<style scoped>\n",
              "    .dataframe tbody tr th:only-of-type {\n",
              "        vertical-align: middle;\n",
              "    }\n",
              "\n",
              "    .dataframe tbody tr th {\n",
              "        vertical-align: top;\n",
              "    }\n",
              "\n",
              "    .dataframe thead th {\n",
              "        text-align: right;\n",
              "    }\n",
              "</style>\n",
              "<table border=\"1\" class=\"dataframe\">\n",
              "  <thead>\n",
              "    <tr style=\"text-align: right;\">\n",
              "      <th></th>\n",
              "      <th>연도</th>\n",
              "      <th>제품1</th>\n",
              "      <th>제품2</th>\n",
              "      <th>제품3</th>\n",
              "      <th>제품4</th>\n",
              "    </tr>\n",
              "  </thead>\n",
              "  <tbody>\n",
              "    <tr>\n",
              "      <th>0</th>\n",
              "      <td>2015</td>\n",
              "      <td>250.0</td>\n",
              "      <td>150</td>\n",
              "      <td>NaN</td>\n",
              "      <td>NaN</td>\n",
              "    </tr>\n",
              "    <tr>\n",
              "      <th>1</th>\n",
              "      <td>2016</td>\n",
              "      <td>200.0</td>\n",
              "      <td>160</td>\n",
              "      <td>170.0</td>\n",
              "      <td>NaN</td>\n",
              "    </tr>\n",
              "    <tr>\n",
              "      <th>2</th>\n",
              "      <td>2017</td>\n",
              "      <td>150.0</td>\n",
              "      <td>200</td>\n",
              "      <td>100.0</td>\n",
              "      <td>150.0</td>\n",
              "    </tr>\n",
              "    <tr>\n",
              "      <th>3</th>\n",
              "      <td>2018</td>\n",
              "      <td>120.0</td>\n",
              "      <td>230</td>\n",
              "      <td>130.0</td>\n",
              "      <td>170.0</td>\n",
              "    </tr>\n",
              "    <tr>\n",
              "      <th>4</th>\n",
              "      <td>2019</td>\n",
              "      <td>NaN</td>\n",
              "      <td>250</td>\n",
              "      <td>140.0</td>\n",
              "      <td>NaN</td>\n",
              "    </tr>\n",
              "  </tbody>\n",
              "</table>\n",
              "</div>"
            ],
            "text/plain": [
              "     연도    제품1  제품2    제품3    제품4\n",
              "0  2015  250.0  150    NaN    NaN\n",
              "1  2016  200.0  160  170.0    NaN\n",
              "2  2017  150.0  200  100.0  150.0\n",
              "3  2018  120.0  230  130.0  170.0\n",
              "4  2019    NaN  250  140.0    NaN"
            ]
          },
          "execution_count": 47,
          "metadata": {},
          "output_type": "execute_result"
        }
      ],
      "source": [
        "df"
      ]
    },
    {
      "cell_type": "code",
      "execution_count": null,
      "id": "a836420e-9c07-4aad-a234-cd92d120f6d4",
      "metadata": {
        "id": "a836420e-9c07-4aad-a234-cd92d120f6d4"
      },
      "outputs": [],
      "source": [
        "df=df.set_index('연도')"
      ]
    },
    {
      "cell_type": "code",
      "execution_count": null,
      "id": "04906f75-b2ef-4146-8906-1cb7b276594c",
      "metadata": {
        "id": "04906f75-b2ef-4146-8906-1cb7b276594c",
        "outputId": "1b2c5c6a-7867-4330-f7db-91e387c013f5"
      },
      "outputs": [
        {
          "data": {
            "text/html": [
              "<div>\n",
              "<style scoped>\n",
              "    .dataframe tbody tr th:only-of-type {\n",
              "        vertical-align: middle;\n",
              "    }\n",
              "\n",
              "    .dataframe tbody tr th {\n",
              "        vertical-align: top;\n",
              "    }\n",
              "\n",
              "    .dataframe thead th {\n",
              "        text-align: right;\n",
              "    }\n",
              "</style>\n",
              "<table border=\"1\" class=\"dataframe\">\n",
              "  <thead>\n",
              "    <tr style=\"text-align: right;\">\n",
              "      <th></th>\n",
              "      <th>제품1</th>\n",
              "      <th>제품2</th>\n",
              "      <th>제품3</th>\n",
              "      <th>제품4</th>\n",
              "    </tr>\n",
              "    <tr>\n",
              "      <th>연도</th>\n",
              "      <th></th>\n",
              "      <th></th>\n",
              "      <th></th>\n",
              "      <th></th>\n",
              "    </tr>\n",
              "  </thead>\n",
              "  <tbody>\n",
              "    <tr>\n",
              "      <th>2015</th>\n",
              "      <td>250.0</td>\n",
              "      <td>150</td>\n",
              "      <td>NaN</td>\n",
              "      <td>NaN</td>\n",
              "    </tr>\n",
              "    <tr>\n",
              "      <th>2016</th>\n",
              "      <td>200.0</td>\n",
              "      <td>160</td>\n",
              "      <td>170.0</td>\n",
              "      <td>NaN</td>\n",
              "    </tr>\n",
              "    <tr>\n",
              "      <th>2017</th>\n",
              "      <td>150.0</td>\n",
              "      <td>200</td>\n",
              "      <td>100.0</td>\n",
              "      <td>150.0</td>\n",
              "    </tr>\n",
              "    <tr>\n",
              "      <th>2018</th>\n",
              "      <td>120.0</td>\n",
              "      <td>230</td>\n",
              "      <td>130.0</td>\n",
              "      <td>170.0</td>\n",
              "    </tr>\n",
              "    <tr>\n",
              "      <th>2019</th>\n",
              "      <td>NaN</td>\n",
              "      <td>250</td>\n",
              "      <td>140.0</td>\n",
              "      <td>NaN</td>\n",
              "    </tr>\n",
              "  </tbody>\n",
              "</table>\n",
              "</div>"
            ],
            "text/plain": [
              "        제품1  제품2    제품3    제품4\n",
              "연도                            \n",
              "2015  250.0  150    NaN    NaN\n",
              "2016  200.0  160  170.0    NaN\n",
              "2017  150.0  200  100.0  150.0\n",
              "2018  120.0  230  130.0  170.0\n",
              "2019    NaN  250  140.0    NaN"
            ]
          },
          "execution_count": 49,
          "metadata": {},
          "output_type": "execute_result"
        }
      ],
      "source": [
        "df"
      ]
    },
    {
      "cell_type": "code",
      "execution_count": null,
      "id": "64f69596-3849-4d00-a8fc-25466e744436",
      "metadata": {
        "id": "64f69596-3849-4d00-a8fc-25466e744436",
        "outputId": "0c6372b1-cc0a-476f-80b0-d6afcb7c059b"
      },
      "outputs": [
        {
          "data": {
            "text/plain": [
              "Index([2015, 2016, 2017, 2018, 2019], dtype='int64', name='연도')"
            ]
          },
          "execution_count": 50,
          "metadata": {},
          "output_type": "execute_result"
        }
      ],
      "source": [
        "df.index"
      ]
    },
    {
      "cell_type": "code",
      "execution_count": null,
      "id": "8e3398e5-f48d-4707-9956-498e8011a4bb",
      "metadata": {
        "id": "8e3398e5-f48d-4707-9956-498e8011a4bb",
        "outputId": "4e10d51c-0075-4387-fc0a-1e93e80c0627"
      },
      "outputs": [
        {
          "data": {
            "text/plain": [
              "nan"
            ]
          },
          "execution_count": 55,
          "metadata": {},
          "output_type": "execute_result"
        }
      ],
      "source": [
        "df.loc[2015,'제품3']"
      ]
    },
    {
      "cell_type": "code",
      "execution_count": null,
      "id": "58921bb3-33f1-48c2-b659-c80cd14229ad",
      "metadata": {
        "id": "58921bb3-33f1-48c2-b659-c80cd14229ad",
        "outputId": "b1787e40-9062-4715-edb6-7f024b2dde47"
      },
      "outputs": [
        {
          "data": {
            "text/html": [
              "<div>\n",
              "<style scoped>\n",
              "    .dataframe tbody tr th:only-of-type {\n",
              "        vertical-align: middle;\n",
              "    }\n",
              "\n",
              "    .dataframe tbody tr th {\n",
              "        vertical-align: top;\n",
              "    }\n",
              "\n",
              "    .dataframe thead th {\n",
              "        text-align: right;\n",
              "    }\n",
              "</style>\n",
              "<table border=\"1\" class=\"dataframe\">\n",
              "  <thead>\n",
              "    <tr style=\"text-align: right;\">\n",
              "      <th></th>\n",
              "      <th>제품3</th>\n",
              "      <th>제품4</th>\n",
              "    </tr>\n",
              "    <tr>\n",
              "      <th>연도</th>\n",
              "      <th></th>\n",
              "      <th></th>\n",
              "    </tr>\n",
              "  </thead>\n",
              "  <tbody>\n",
              "    <tr>\n",
              "      <th>2015</th>\n",
              "      <td>NaN</td>\n",
              "      <td>NaN</td>\n",
              "    </tr>\n",
              "    <tr>\n",
              "      <th>2016</th>\n",
              "      <td>170.0</td>\n",
              "      <td>NaN</td>\n",
              "    </tr>\n",
              "    <tr>\n",
              "      <th>2017</th>\n",
              "      <td>100.0</td>\n",
              "      <td>150.0</td>\n",
              "    </tr>\n",
              "  </tbody>\n",
              "</table>\n",
              "</div>"
            ],
            "text/plain": [
              "        제품3    제품4\n",
              "연도                \n",
              "2015    NaN    NaN\n",
              "2016  170.0    NaN\n",
              "2017  100.0  150.0"
            ]
          },
          "execution_count": 57,
          "metadata": {},
          "output_type": "execute_result"
        }
      ],
      "source": [
        "df.loc[[2015,2016,2017],['제품3','제품4']]"
      ]
    },
    {
      "cell_type": "code",
      "execution_count": null,
      "id": "3ab41ee8-1834-4cec-8ddb-d1e633077713",
      "metadata": {
        "id": "3ab41ee8-1834-4cec-8ddb-d1e633077713",
        "outputId": "92c52270-0959-4e1f-fd43-38f21159a65a"
      },
      "outputs": [
        {
          "data": {
            "text/plain": [
              "제품1    150.0\n",
              "제품2    200.0\n",
              "제품3    100.0\n",
              "제품4    150.0\n",
              "Name: 2017, dtype: float64"
            ]
          },
          "execution_count": 58,
          "metadata": {},
          "output_type": "execute_result"
        }
      ],
      "source": [
        "df.loc[2017]"
      ]
    },
    {
      "cell_type": "code",
      "execution_count": null,
      "id": "433841f7-3451-41c0-be48-d24448a47ca5",
      "metadata": {
        "id": "433841f7-3451-41c0-be48-d24448a47ca5",
        "outputId": "5bdd5411-dda1-4bc9-ddf2-362a6cc1f3a4"
      },
      "outputs": [
        {
          "data": {
            "text/html": [
              "<div>\n",
              "<style scoped>\n",
              "    .dataframe tbody tr th:only-of-type {\n",
              "        vertical-align: middle;\n",
              "    }\n",
              "\n",
              "    .dataframe tbody tr th {\n",
              "        vertical-align: top;\n",
              "    }\n",
              "\n",
              "    .dataframe thead th {\n",
              "        text-align: right;\n",
              "    }\n",
              "</style>\n",
              "<table border=\"1\" class=\"dataframe\">\n",
              "  <thead>\n",
              "    <tr style=\"text-align: right;\">\n",
              "      <th></th>\n",
              "      <th>제품3</th>\n",
              "      <th>제품4</th>\n",
              "    </tr>\n",
              "  </thead>\n",
              "  <tbody>\n",
              "    <tr>\n",
              "      <th>0</th>\n",
              "      <td>NaN</td>\n",
              "      <td>NaN</td>\n",
              "    </tr>\n",
              "    <tr>\n",
              "      <th>1</th>\n",
              "      <td>170.0</td>\n",
              "      <td>NaN</td>\n",
              "    </tr>\n",
              "    <tr>\n",
              "      <th>2</th>\n",
              "      <td>100.0</td>\n",
              "      <td>150.0</td>\n",
              "    </tr>\n",
              "  </tbody>\n",
              "</table>\n",
              "</div>"
            ],
            "text/plain": [
              "     제품3    제품4\n",
              "0    NaN    NaN\n",
              "1  170.0    NaN\n",
              "2  100.0  150.0"
            ]
          },
          "execution_count": 43,
          "metadata": {},
          "output_type": "execute_result"
        }
      ],
      "source": [
        "df.iloc[0:3, 3:5]"
      ]
    },
    {
      "cell_type": "code",
      "execution_count": null,
      "id": "ae2bb395-957e-4ff9-9c7a-fe0c4cd42368",
      "metadata": {
        "id": "ae2bb395-957e-4ff9-9c7a-fe0c4cd42368",
        "outputId": "08c585d6-ca37-44e5-f8ec-77a83835deae"
      },
      "outputs": [
        {
          "data": {
            "text/html": [
              "<div>\n",
              "<style scoped>\n",
              "    .dataframe tbody tr th:only-of-type {\n",
              "        vertical-align: middle;\n",
              "    }\n",
              "\n",
              "    .dataframe tbody tr th {\n",
              "        vertical-align: top;\n",
              "    }\n",
              "\n",
              "    .dataframe thead th {\n",
              "        text-align: right;\n",
              "    }\n",
              "</style>\n",
              "<table border=\"1\" class=\"dataframe\">\n",
              "  <thead>\n",
              "    <tr style=\"text-align: right;\">\n",
              "      <th></th>\n",
              "      <th>연도</th>\n",
              "      <th>제품1</th>\n",
              "      <th>제품2</th>\n",
              "      <th>제품3</th>\n",
              "      <th>제품4</th>\n",
              "    </tr>\n",
              "  </thead>\n",
              "  <tbody>\n",
              "    <tr>\n",
              "      <th>2</th>\n",
              "      <td>2017</td>\n",
              "      <td>150.0</td>\n",
              "      <td>200</td>\n",
              "      <td>100.0</td>\n",
              "      <td>150.0</td>\n",
              "    </tr>\n",
              "    <tr>\n",
              "      <th>3</th>\n",
              "      <td>2018</td>\n",
              "      <td>120.0</td>\n",
              "      <td>230</td>\n",
              "      <td>130.0</td>\n",
              "      <td>170.0</td>\n",
              "    </tr>\n",
              "  </tbody>\n",
              "</table>\n",
              "</div>"
            ],
            "text/plain": [
              "     연도    제품1  제품2    제품3    제품4\n",
              "2  2017  150.0  200  100.0  150.0\n",
              "3  2018  120.0  230  130.0  170.0"
            ]
          },
          "execution_count": 31,
          "metadata": {},
          "output_type": "execute_result"
        }
      ],
      "source": [
        "df.iloc[2:4,]"
      ]
    },
    {
      "cell_type": "code",
      "execution_count": null,
      "id": "60b09136-b829-4d4a-9b71-5a0988f96817",
      "metadata": {
        "id": "60b09136-b829-4d4a-9b71-5a0988f96817",
        "outputId": "2d244fcb-2e84-493a-86a9-2a09d39bc166"
      },
      "outputs": [
        {
          "data": {
            "text/plain": [
              "pandas.core.frame.DataFrame"
            ]
          },
          "execution_count": 20,
          "metadata": {},
          "output_type": "execute_result"
        }
      ],
      "source": [
        "type(df)"
      ]
    },
    {
      "cell_type": "code",
      "execution_count": null,
      "id": "ee6511b9-e03c-4df9-995f-4dd1be987572",
      "metadata": {
        "id": "ee6511b9-e03c-4df9-995f-4dd1be987572",
        "outputId": "4c83b7a6-5614-4a60-bd56-afad3a8fcdc7"
      },
      "outputs": [
        {
          "data": {
            "text/html": [
              "<div>\n",
              "<style scoped>\n",
              "    .dataframe tbody tr th:only-of-type {\n",
              "        vertical-align: middle;\n",
              "    }\n",
              "\n",
              "    .dataframe tbody tr th {\n",
              "        vertical-align: top;\n",
              "    }\n",
              "\n",
              "    .dataframe thead th {\n",
              "        text-align: right;\n",
              "    }\n",
              "</style>\n",
              "<table border=\"1\" class=\"dataframe\">\n",
              "  <thead>\n",
              "    <tr style=\"text-align: right;\">\n",
              "      <th></th>\n",
              "      <th>연도</th>\n",
              "      <th>제품1</th>\n",
              "      <th>제품2</th>\n",
              "      <th>제품3</th>\n",
              "      <th>제품4</th>\n",
              "    </tr>\n",
              "  </thead>\n",
              "  <tbody>\n",
              "    <tr>\n",
              "      <th>0</th>\n",
              "      <td>False</td>\n",
              "      <td>False</td>\n",
              "      <td>False</td>\n",
              "      <td>True</td>\n",
              "      <td>True</td>\n",
              "    </tr>\n",
              "    <tr>\n",
              "      <th>1</th>\n",
              "      <td>False</td>\n",
              "      <td>False</td>\n",
              "      <td>False</td>\n",
              "      <td>False</td>\n",
              "      <td>True</td>\n",
              "    </tr>\n",
              "    <tr>\n",
              "      <th>2</th>\n",
              "      <td>False</td>\n",
              "      <td>False</td>\n",
              "      <td>False</td>\n",
              "      <td>False</td>\n",
              "      <td>False</td>\n",
              "    </tr>\n",
              "    <tr>\n",
              "      <th>3</th>\n",
              "      <td>False</td>\n",
              "      <td>False</td>\n",
              "      <td>False</td>\n",
              "      <td>False</td>\n",
              "      <td>False</td>\n",
              "    </tr>\n",
              "    <tr>\n",
              "      <th>4</th>\n",
              "      <td>False</td>\n",
              "      <td>True</td>\n",
              "      <td>False</td>\n",
              "      <td>False</td>\n",
              "      <td>True</td>\n",
              "    </tr>\n",
              "  </tbody>\n",
              "</table>\n",
              "</div>"
            ],
            "text/plain": [
              "      연도    제품1    제품2    제품3    제품4\n",
              "0  False  False  False   True   True\n",
              "1  False  False  False  False   True\n",
              "2  False  False  False  False  False\n",
              "3  False  False  False  False  False\n",
              "4  False   True  False  False   True"
            ]
          },
          "execution_count": 21,
          "metadata": {},
          "output_type": "execute_result"
        }
      ],
      "source": [
        "df.isnull()"
      ]
    },
    {
      "cell_type": "code",
      "execution_count": null,
      "id": "fec26f5a-28d2-4cb7-9dd1-701b074869b7",
      "metadata": {
        "id": "fec26f5a-28d2-4cb7-9dd1-701b074869b7",
        "outputId": "efd0ab04-9baf-4a63-d9d3-a0521ee5f2e2"
      },
      "outputs": [
        {
          "data": {
            "text/plain": [
              "RangeIndex(start=0, stop=5, step=1)"
            ]
          },
          "execution_count": 23,
          "metadata": {},
          "output_type": "execute_result"
        }
      ],
      "source": [
        "df.index"
      ]
    },
    {
      "cell_type": "code",
      "execution_count": null,
      "id": "ad8de3ca-869c-4203-9e6c-1d4c12c0eff4",
      "metadata": {
        "id": "ad8de3ca-869c-4203-9e6c-1d4c12c0eff4",
        "outputId": "d76f5edc-7c85-44e8-8ec3-966e11c0eb66"
      },
      "outputs": [
        {
          "data": {
            "text/plain": [
              "연도     2015.0\n",
              "제품1     250.0\n",
              "제품2     150.0\n",
              "제품3       NaN\n",
              "제품4       NaN\n",
              "Name: 0, dtype: float64"
            ]
          },
          "execution_count": 24,
          "metadata": {},
          "output_type": "execute_result"
        }
      ],
      "source": [
        "df.iloc[0]"
      ]
    },
    {
      "cell_type": "code",
      "execution_count": null,
      "id": "1e52b2b4-8fc2-4d3f-af7b-c20f276db538",
      "metadata": {
        "id": "1e52b2b4-8fc2-4d3f-af7b-c20f276db538",
        "outputId": "140611c8-58ed-4cc7-d947-5356b5623fe4"
      },
      "outputs": [
        {
          "data": {
            "text/plain": [
              "pandas.core.series.Series"
            ]
          },
          "execution_count": 25,
          "metadata": {},
          "output_type": "execute_result"
        }
      ],
      "source": [
        "type(df.iloc[0])"
      ]
    },
    {
      "cell_type": "code",
      "execution_count": null,
      "id": "04ec4a95-c8e4-4d3c-9ecf-6a2fcb940c0a",
      "metadata": {
        "id": "04ec4a95-c8e4-4d3c-9ecf-6a2fcb940c0a",
        "outputId": "5881302b-0fcf-493d-ee9b-fe8fa270ca6c"
      },
      "outputs": [
        {
          "data": {
            "text/plain": [
              "Index(['연도', '제품1', '제품2', '제품3', '제품4'], dtype='object')"
            ]
          },
          "execution_count": 26,
          "metadata": {},
          "output_type": "execute_result"
        }
      ],
      "source": [
        "df.iloc[0].index"
      ]
    },
    {
      "cell_type": "code",
      "execution_count": null,
      "id": "22808e9c-c973-495b-89b2-1b88b8d288c3",
      "metadata": {
        "id": "22808e9c-c973-495b-89b2-1b88b8d288c3",
        "outputId": "2705f64d-736a-416c-d87e-d575801574b4"
      },
      "outputs": [
        {
          "data": {
            "text/plain": [
              "0    2015\n",
              "1    2016\n",
              "2    2017\n",
              "3    2018\n",
              "4    2019\n",
              "Name: 연도, dtype: int64"
            ]
          },
          "execution_count": 27,
          "metadata": {},
          "output_type": "execute_result"
        }
      ],
      "source": [
        "df.연도"
      ]
    },
    {
      "cell_type": "code",
      "execution_count": null,
      "id": "1c107df2-fcbb-4c7c-82a5-af469c6ae949",
      "metadata": {
        "id": "1c107df2-fcbb-4c7c-82a5-af469c6ae949",
        "outputId": "bd868a90-acd3-433e-e9af-78d7f64ad7ff"
      },
      "outputs": [
        {
          "data": {
            "text/plain": [
              "0    2015\n",
              "1    2016\n",
              "2    2017\n",
              "3    2018\n",
              "4    2019\n",
              "Name: 연도, dtype: int64"
            ]
          },
          "execution_count": 28,
          "metadata": {},
          "output_type": "execute_result"
        }
      ],
      "source": [
        "df['연도']"
      ]
    },
    {
      "cell_type": "code",
      "execution_count": null,
      "id": "e707ca0c-6544-4ddf-b972-3f858dd9556e",
      "metadata": {
        "id": "e707ca0c-6544-4ddf-b972-3f858dd9556e",
        "outputId": "8fe26cd1-760a-442c-8f65-d7407851da35"
      },
      "outputs": [
        {
          "data": {
            "text/plain": [
              "Index(['제품1', '제품2', '제품3', '제품4'], dtype='object')"
            ]
          },
          "execution_count": 59,
          "metadata": {},
          "output_type": "execute_result"
        }
      ],
      "source": [
        "df.loc[2017].index"
      ]
    },
    {
      "cell_type": "code",
      "execution_count": null,
      "id": "d61e12d5-cf62-4ca8-b99f-d05838832907",
      "metadata": {
        "id": "d61e12d5-cf62-4ca8-b99f-d05838832907",
        "outputId": "75e476a3-6960-4cc8-fa76-2325dc3465f7"
      },
      "outputs": [
        {
          "data": {
            "text/plain": [
              "array([150., 200., 100., 150.])"
            ]
          },
          "execution_count": 60,
          "metadata": {},
          "output_type": "execute_result"
        }
      ],
      "source": [
        "df.loc[2017].values"
      ]
    },
    {
      "cell_type": "code",
      "execution_count": null,
      "id": "72760350-a0d9-4d02-8b04-3d2b0bfc6fed",
      "metadata": {
        "id": "72760350-a0d9-4d02-8b04-3d2b0bfc6fed"
      },
      "outputs": [],
      "source": [
        "# 평균"
      ]
    },
    {
      "cell_type": "code",
      "execution_count": null,
      "id": "c4a91337-9c2c-4c06-8300-2f2473c36288",
      "metadata": {
        "id": "c4a91337-9c2c-4c06-8300-2f2473c36288"
      },
      "outputs": [],
      "source": [
        "avg=(150+200+100+150) /4"
      ]
    },
    {
      "cell_type": "code",
      "execution_count": null,
      "id": "f00d4d9b-a5a6-461a-abb7-456d5e30cc70",
      "metadata": {
        "id": "f00d4d9b-a5a6-461a-abb7-456d5e30cc70",
        "outputId": "b8a0b5da-5ed7-4d6e-9260-57865382aa58"
      },
      "outputs": [
        {
          "data": {
            "text/plain": [
              "150.0"
            ]
          },
          "execution_count": 63,
          "metadata": {},
          "output_type": "execute_result"
        }
      ],
      "source": [
        "avg"
      ]
    },
    {
      "cell_type": "code",
      "execution_count": null,
      "id": "52538ea3-365c-4a4d-8455-d641760fe83c",
      "metadata": {
        "id": "52538ea3-365c-4a4d-8455-d641760fe83c",
        "outputId": "c15a4d94-2ba0-49bc-8297-a1755d15d6ed"
      },
      "outputs": [
        {
          "data": {
            "text/plain": [
              "연도\n",
              "2015    150\n",
              "2016    160\n",
              "2017    200\n",
              "2018    230\n",
              "2019    250\n",
              "Name: 제품2, dtype: int64"
            ]
          },
          "execution_count": 64,
          "metadata": {},
          "output_type": "execute_result"
        }
      ],
      "source": [
        "df.제품2"
      ]
    },
    {
      "cell_type": "code",
      "execution_count": null,
      "id": "d2764f93-0b1e-40ce-8f62-314643d5b667",
      "metadata": {
        "id": "d2764f93-0b1e-40ce-8f62-314643d5b667"
      },
      "outputs": [],
      "source": [
        "import numpy as np"
      ]
    },
    {
      "cell_type": "code",
      "execution_count": null,
      "id": "f242d316-727b-4636-b005-4d48952b9719",
      "metadata": {
        "id": "f242d316-727b-4636-b005-4d48952b9719",
        "outputId": "b523b09e-d63a-4f93-e89e-55abfa67ac2d"
      },
      "outputs": [
        {
          "data": {
            "text/plain": [
              "198.0"
            ]
          },
          "execution_count": 66,
          "metadata": {},
          "output_type": "execute_result"
        }
      ],
      "source": [
        "np.mean(df.제품2)"
      ]
    },
    {
      "cell_type": "code",
      "execution_count": null,
      "id": "3ae2370e-34e0-45d8-991a-9e222ee4bc6e",
      "metadata": {
        "id": "3ae2370e-34e0-45d8-991a-9e222ee4bc6e"
      },
      "outputs": [],
      "source": [
        "avg=np.mean(df.제품2)"
      ]
    },
    {
      "cell_type": "code",
      "execution_count": null,
      "id": "29fccc20-0f7b-4b5d-a351-fcba0cb58e07",
      "metadata": {
        "id": "29fccc20-0f7b-4b5d-a351-fcba0cb58e07",
        "outputId": "b6337600-3e9a-43af-bb0f-bcccbfe1fa23"
      },
      "outputs": [
        {
          "data": {
            "text/plain": [
              "array([150, 160, 200, 230, 250], dtype=int64)"
            ]
          },
          "execution_count": 68,
          "metadata": {},
          "output_type": "execute_result"
        }
      ],
      "source": [
        "df.제품2.values"
      ]
    },
    {
      "cell_type": "code",
      "execution_count": null,
      "id": "4e52b29c-09d4-4b79-a879-6f8827d77068",
      "metadata": {
        "id": "4e52b29c-09d4-4b79-a879-6f8827d77068",
        "outputId": "afdc8f23-b224-4c0f-f640-33fc781b4198"
      },
      "outputs": [
        {
          "data": {
            "text/plain": [
              "array([ 48.,  38.,  -2., -32., -52.])"
            ]
          },
          "execution_count": 69,
          "metadata": {},
          "output_type": "execute_result"
        }
      ],
      "source": [
        "avg-df.제품2.values"
      ]
    },
    {
      "cell_type": "code",
      "execution_count": null,
      "id": "679d69e3-27d5-4c62-86ee-6f994226ab2f",
      "metadata": {
        "id": "679d69e3-27d5-4c62-86ee-6f994226ab2f"
      },
      "outputs": [],
      "source": [
        "# 편차"
      ]
    },
    {
      "cell_type": "code",
      "execution_count": null,
      "id": "fe54e3f7-b6db-44b1-8daf-efc496894681",
      "metadata": {
        "id": "fe54e3f7-b6db-44b1-8daf-efc496894681"
      },
      "outputs": [],
      "source": [
        "deviation=avg-df.제품2.values"
      ]
    },
    {
      "cell_type": "code",
      "execution_count": null,
      "id": "f2d13f89-8b3c-424e-8ee6-01e21438777f",
      "metadata": {
        "id": "f2d13f89-8b3c-424e-8ee6-01e21438777f",
        "outputId": "a8f5dbc4-eb8f-4f57-dc90-d0fad6c44d9a"
      },
      "outputs": [
        {
          "data": {
            "text/plain": [
              "array([ 48.,  38.,  -2., -32., -52.])"
            ]
          },
          "execution_count": 72,
          "metadata": {},
          "output_type": "execute_result"
        }
      ],
      "source": [
        "deviation"
      ]
    },
    {
      "cell_type": "code",
      "execution_count": null,
      "id": "0c5dc1c1-9800-4414-8d62-eadb9dcb556f",
      "metadata": {
        "id": "0c5dc1c1-9800-4414-8d62-eadb9dcb556f",
        "outputId": "b31c96c6-556a-4338-c3a4-7ee5593ccc04"
      },
      "outputs": [
        {
          "data": {
            "text/plain": [
              "array([2304., 1444.,    4., 1024., 2704.])"
            ]
          },
          "execution_count": 73,
          "metadata": {},
          "output_type": "execute_result"
        }
      ],
      "source": [
        "deviation**2"
      ]
    },
    {
      "cell_type": "code",
      "execution_count": null,
      "id": "9a4945c1-7116-4677-95e2-b56678a4393b",
      "metadata": {
        "id": "9a4945c1-7116-4677-95e2-b56678a4393b",
        "outputId": "5c1b9ef4-7a6f-43ea-9abb-76c2f3be0c8e"
      },
      "outputs": [
        {
          "data": {
            "text/plain": [
              "7480.0"
            ]
          },
          "execution_count": 74,
          "metadata": {},
          "output_type": "execute_result"
        }
      ],
      "source": [
        "np.sum(deviation**2)"
      ]
    },
    {
      "cell_type": "code",
      "execution_count": null,
      "id": "6261db10-a7ad-4cb9-af8b-5f868e25457e",
      "metadata": {
        "id": "6261db10-a7ad-4cb9-af8b-5f868e25457e",
        "outputId": "d7109516-fdbc-4245-eb99-7c3bf22afd0b"
      },
      "outputs": [
        {
          "data": {
            "text/plain": [
              "1496.0"
            ]
          },
          "execution_count": 75,
          "metadata": {},
          "output_type": "execute_result"
        }
      ],
      "source": [
        "np.sum(deviation**2)/5"
      ]
    },
    {
      "cell_type": "code",
      "execution_count": null,
      "id": "57e98274-70c3-45b7-96f4-367d4a538053",
      "metadata": {
        "id": "57e98274-70c3-45b7-96f4-367d4a538053",
        "outputId": "d0daad79-1a77-4db6-c539-965070d2d278"
      },
      "outputs": [
        {
          "data": {
            "text/plain": [
              "<bound method Series.var of 연도\n",
              "2015    150\n",
              "2016    160\n",
              "2017    200\n",
              "2018    230\n",
              "2019    250\n",
              "Name: 제품2, dtype: int64>"
            ]
          },
          "execution_count": 76,
          "metadata": {},
          "output_type": "execute_result"
        }
      ],
      "source": [
        "df.제품2.var"
      ]
    },
    {
      "cell_type": "code",
      "execution_count": null,
      "id": "af935a60-8384-4044-9439-ea9dcac691b1",
      "metadata": {
        "id": "af935a60-8384-4044-9439-ea9dcac691b1",
        "outputId": "ead7344e-cf40-4398-faa8-d836a48c6406"
      },
      "outputs": [
        {
          "data": {
            "text/plain": [
              "43.243496620879306"
            ]
          },
          "execution_count": 77,
          "metadata": {},
          "output_type": "execute_result"
        }
      ],
      "source": [
        "np.sqrt(df.제품2.var())"
      ]
    },
    {
      "cell_type": "code",
      "execution_count": null,
      "id": "5832e6de-4fe9-42e9-ab56-fbe1e249fbbc",
      "metadata": {
        "id": "5832e6de-4fe9-42e9-ab56-fbe1e249fbbc",
        "outputId": "be71e7c7-4666-4a36-d77c-bee1eb7dcd27"
      },
      "outputs": [
        {
          "data": {
            "text/plain": [
              "1870.0"
            ]
          },
          "execution_count": 82,
          "metadata": {},
          "output_type": "execute_result"
        }
      ],
      "source": [
        "np.sum(deviation**2)/4"
      ]
    },
    {
      "cell_type": "code",
      "execution_count": null,
      "id": "1509d36d-d985-4bb0-a660-34a7713283d4",
      "metadata": {
        "id": "1509d36d-d985-4bb0-a660-34a7713283d4",
        "outputId": "32e60a40-8d23-4c66-e06e-a598f1e74e1c"
      },
      "outputs": [
        {
          "data": {
            "text/html": [
              "<div>\n",
              "<style scoped>\n",
              "    .dataframe tbody tr th:only-of-type {\n",
              "        vertical-align: middle;\n",
              "    }\n",
              "\n",
              "    .dataframe tbody tr th {\n",
              "        vertical-align: top;\n",
              "    }\n",
              "\n",
              "    .dataframe thead th {\n",
              "        text-align: right;\n",
              "    }\n",
              "</style>\n",
              "<table border=\"1\" class=\"dataframe\">\n",
              "  <thead>\n",
              "    <tr style=\"text-align: right;\">\n",
              "      <th></th>\n",
              "      <th>제품1</th>\n",
              "      <th>제품2</th>\n",
              "      <th>제품3</th>\n",
              "      <th>제품4</th>\n",
              "    </tr>\n",
              "    <tr>\n",
              "      <th>연도</th>\n",
              "      <th></th>\n",
              "      <th></th>\n",
              "      <th></th>\n",
              "      <th></th>\n",
              "    </tr>\n",
              "  </thead>\n",
              "  <tbody>\n",
              "    <tr>\n",
              "      <th>2015</th>\n",
              "      <td>False</td>\n",
              "      <td>False</td>\n",
              "      <td>True</td>\n",
              "      <td>True</td>\n",
              "    </tr>\n",
              "    <tr>\n",
              "      <th>2016</th>\n",
              "      <td>False</td>\n",
              "      <td>False</td>\n",
              "      <td>False</td>\n",
              "      <td>True</td>\n",
              "    </tr>\n",
              "    <tr>\n",
              "      <th>2017</th>\n",
              "      <td>False</td>\n",
              "      <td>False</td>\n",
              "      <td>False</td>\n",
              "      <td>False</td>\n",
              "    </tr>\n",
              "    <tr>\n",
              "      <th>2018</th>\n",
              "      <td>False</td>\n",
              "      <td>False</td>\n",
              "      <td>False</td>\n",
              "      <td>False</td>\n",
              "    </tr>\n",
              "    <tr>\n",
              "      <th>2019</th>\n",
              "      <td>True</td>\n",
              "      <td>False</td>\n",
              "      <td>False</td>\n",
              "      <td>True</td>\n",
              "    </tr>\n",
              "  </tbody>\n",
              "</table>\n",
              "</div>"
            ],
            "text/plain": [
              "        제품1    제품2    제품3    제품4\n",
              "연도                              \n",
              "2015  False  False   True   True\n",
              "2016  False  False  False   True\n",
              "2017  False  False  False  False\n",
              "2018  False  False  False  False\n",
              "2019   True  False  False   True"
            ]
          },
          "execution_count": 83,
          "metadata": {},
          "output_type": "execute_result"
        }
      ],
      "source": [
        "df.isnull()"
      ]
    },
    {
      "cell_type": "code",
      "execution_count": null,
      "id": "08515c62-aa3b-4229-9cdd-6a32fd3d3d26",
      "metadata": {
        "id": "08515c62-aa3b-4229-9cdd-6a32fd3d3d26",
        "outputId": "847e5e40-94e1-4197-f196-03f6c85a65e4"
      },
      "outputs": [
        {
          "data": {
            "text/plain": [
              "제품1    1\n",
              "제품2    0\n",
              "제품3    1\n",
              "제품4    3\n",
              "dtype: int64"
            ]
          },
          "execution_count": 84,
          "metadata": {},
          "output_type": "execute_result"
        }
      ],
      "source": [
        "df.isnull().sum()"
      ]
    },
    {
      "cell_type": "code",
      "execution_count": null,
      "id": "136fbfd6-52e2-4758-8858-a7bc30d2ff43",
      "metadata": {
        "id": "136fbfd6-52e2-4758-8858-a7bc30d2ff43",
        "outputId": "71598160-24c8-4c39-a31d-654bc5d43ac3"
      },
      "outputs": [
        {
          "name": "stdout",
          "output_type": "stream",
          "text": [
            "Help on method drop in module pandas.core.frame:\n",
            "\n",
            "drop(labels: 'IndexLabel | None' = None, *, axis: 'Axis' = 0, index: 'IndexLabel | None' = None, columns: 'IndexLabel | None' = None, level: 'Level | None' = None, inplace: 'bool' = False, errors: 'IgnoreRaise' = 'raise') -> 'DataFrame | None' method of pandas.core.frame.DataFrame instance\n",
            "    Drop specified labels from rows or columns.\n",
            "    \n",
            "    Remove rows or columns by specifying label names and corresponding\n",
            "    axis, or by directly specifying index or column names. When using a\n",
            "    multi-index, labels on different levels can be removed by specifying\n",
            "    the level. See the :ref:`user guide <advanced.shown_levels>`\n",
            "    for more information about the now unused levels.\n",
            "    \n",
            "    Parameters\n",
            "    ----------\n",
            "    labels : single label or list-like\n",
            "        Index or column labels to drop. A tuple will be used as a single\n",
            "        label and not treated as a list-like.\n",
            "    axis : {0 or 'index', 1 or 'columns'}, default 0\n",
            "        Whether to drop labels from the index (0 or 'index') or\n",
            "        columns (1 or 'columns').\n",
            "    index : single label or list-like\n",
            "        Alternative to specifying axis (``labels, axis=0``\n",
            "        is equivalent to ``index=labels``).\n",
            "    columns : single label or list-like\n",
            "        Alternative to specifying axis (``labels, axis=1``\n",
            "        is equivalent to ``columns=labels``).\n",
            "    level : int or level name, optional\n",
            "        For MultiIndex, level from which the labels will be removed.\n",
            "    inplace : bool, default False\n",
            "        If False, return a copy. Otherwise, do operation\n",
            "        in place and return None.\n",
            "    errors : {'ignore', 'raise'}, default 'raise'\n",
            "        If 'ignore', suppress error and only existing labels are\n",
            "        dropped.\n",
            "    \n",
            "    Returns\n",
            "    -------\n",
            "    DataFrame or None\n",
            "        Returns DataFrame or None DataFrame with the specified\n",
            "        index or column labels removed or None if inplace=True.\n",
            "    \n",
            "    Raises\n",
            "    ------\n",
            "    KeyError\n",
            "        If any of the labels is not found in the selected axis.\n",
            "    \n",
            "    See Also\n",
            "    --------\n",
            "    DataFrame.loc : Label-location based indexer for selection by label.\n",
            "    DataFrame.dropna : Return DataFrame with labels on given axis omitted\n",
            "        where (all or any) data are missing.\n",
            "    DataFrame.drop_duplicates : Return DataFrame with duplicate rows\n",
            "        removed, optionally only considering certain columns.\n",
            "    Series.drop : Return Series with specified index labels removed.\n",
            "    \n",
            "    Examples\n",
            "    --------\n",
            "    >>> df = pd.DataFrame(np.arange(12).reshape(3, 4),\n",
            "    ...                   columns=['A', 'B', 'C', 'D'])\n",
            "    >>> df\n",
            "       A  B   C   D\n",
            "    0  0  1   2   3\n",
            "    1  4  5   6   7\n",
            "    2  8  9  10  11\n",
            "    \n",
            "    Drop columns\n",
            "    \n",
            "    >>> df.drop(['B', 'C'], axis=1)\n",
            "       A   D\n",
            "    0  0   3\n",
            "    1  4   7\n",
            "    2  8  11\n",
            "    \n",
            "    >>> df.drop(columns=['B', 'C'])\n",
            "       A   D\n",
            "    0  0   3\n",
            "    1  4   7\n",
            "    2  8  11\n",
            "    \n",
            "    Drop a row by index\n",
            "    \n",
            "    >>> df.drop([0, 1])\n",
            "       A  B   C   D\n",
            "    2  8  9  10  11\n",
            "    \n",
            "    Drop columns and/or rows of MultiIndex DataFrame\n",
            "    \n",
            "    >>> midx = pd.MultiIndex(levels=[['llama', 'cow', 'falcon'],\n",
            "    ...                              ['speed', 'weight', 'length']],\n",
            "    ...                      codes=[[0, 0, 0, 1, 1, 1, 2, 2, 2],\n",
            "    ...                             [0, 1, 2, 0, 1, 2, 0, 1, 2]])\n",
            "    >>> df = pd.DataFrame(index=midx, columns=['big', 'small'],\n",
            "    ...                   data=[[45, 30], [200, 100], [1.5, 1], [30, 20],\n",
            "    ...                         [250, 150], [1.5, 0.8], [320, 250],\n",
            "    ...                         [1, 0.8], [0.3, 0.2]])\n",
            "    >>> df\n",
            "                    big     small\n",
            "    llama   speed   45.0    30.0\n",
            "            weight  200.0   100.0\n",
            "            length  1.5     1.0\n",
            "    cow     speed   30.0    20.0\n",
            "            weight  250.0   150.0\n",
            "            length  1.5     0.8\n",
            "    falcon  speed   320.0   250.0\n",
            "            weight  1.0     0.8\n",
            "            length  0.3     0.2\n",
            "    \n",
            "    Drop a specific index combination from the MultiIndex\n",
            "    DataFrame, i.e., drop the combination ``'falcon'`` and\n",
            "    ``'weight'``, which deletes only the corresponding row\n",
            "    \n",
            "    >>> df.drop(index=('falcon', 'weight'))\n",
            "                    big     small\n",
            "    llama   speed   45.0    30.0\n",
            "            weight  200.0   100.0\n",
            "            length  1.5     1.0\n",
            "    cow     speed   30.0    20.0\n",
            "            weight  250.0   150.0\n",
            "            length  1.5     0.8\n",
            "    falcon  speed   320.0   250.0\n",
            "            length  0.3     0.2\n",
            "    \n",
            "    >>> df.drop(index='cow', columns='small')\n",
            "                    big\n",
            "    llama   speed   45.0\n",
            "            weight  200.0\n",
            "            length  1.5\n",
            "    falcon  speed   320.0\n",
            "            weight  1.0\n",
            "            length  0.3\n",
            "    \n",
            "    >>> df.drop(index='length', level=1)\n",
            "                    big     small\n",
            "    llama   speed   45.0    30.0\n",
            "            weight  200.0   100.0\n",
            "    cow     speed   30.0    20.0\n",
            "            weight  250.0   150.0\n",
            "    falcon  speed   320.0   250.0\n",
            "            weight  1.0     0.8\n",
            "\n"
          ]
        }
      ],
      "source": [
        "help(df.drop)"
      ]
    },
    {
      "cell_type": "code",
      "execution_count": null,
      "id": "6c2f3877-96e9-4463-8ba5-234a007f76f1",
      "metadata": {
        "id": "6c2f3877-96e9-4463-8ba5-234a007f76f1",
        "outputId": "f54e6a77-fafb-4a8a-9056-d02ebadc4b9b"
      },
      "outputs": [
        {
          "data": {
            "text/html": [
              "<div>\n",
              "<style scoped>\n",
              "    .dataframe tbody tr th:only-of-type {\n",
              "        vertical-align: middle;\n",
              "    }\n",
              "\n",
              "    .dataframe tbody tr th {\n",
              "        vertical-align: top;\n",
              "    }\n",
              "\n",
              "    .dataframe thead th {\n",
              "        text-align: right;\n",
              "    }\n",
              "</style>\n",
              "<table border=\"1\" class=\"dataframe\">\n",
              "  <thead>\n",
              "    <tr style=\"text-align: right;\">\n",
              "      <th></th>\n",
              "      <th>제품1</th>\n",
              "      <th>제품2</th>\n",
              "      <th>제품3</th>\n",
              "      <th>제품4</th>\n",
              "    </tr>\n",
              "    <tr>\n",
              "      <th>연도</th>\n",
              "      <th></th>\n",
              "      <th></th>\n",
              "      <th></th>\n",
              "      <th></th>\n",
              "    </tr>\n",
              "  </thead>\n",
              "  <tbody>\n",
              "    <tr>\n",
              "      <th>2015</th>\n",
              "      <td>250.0</td>\n",
              "      <td>150</td>\n",
              "      <td>NaN</td>\n",
              "      <td>NaN</td>\n",
              "    </tr>\n",
              "    <tr>\n",
              "      <th>2016</th>\n",
              "      <td>200.0</td>\n",
              "      <td>160</td>\n",
              "      <td>170.0</td>\n",
              "      <td>NaN</td>\n",
              "    </tr>\n",
              "    <tr>\n",
              "      <th>2017</th>\n",
              "      <td>150.0</td>\n",
              "      <td>200</td>\n",
              "      <td>100.0</td>\n",
              "      <td>150.0</td>\n",
              "    </tr>\n",
              "    <tr>\n",
              "      <th>2018</th>\n",
              "      <td>120.0</td>\n",
              "      <td>230</td>\n",
              "      <td>130.0</td>\n",
              "      <td>170.0</td>\n",
              "    </tr>\n",
              "  </tbody>\n",
              "</table>\n",
              "</div>"
            ],
            "text/plain": [
              "        제품1  제품2    제품3    제품4\n",
              "연도                            \n",
              "2015  250.0  150    NaN    NaN\n",
              "2016  200.0  160  170.0    NaN\n",
              "2017  150.0  200  100.0  150.0\n",
              "2018  120.0  230  130.0  170.0"
            ]
          },
          "execution_count": 86,
          "metadata": {},
          "output_type": "execute_result"
        }
      ],
      "source": [
        "df.drop(index=[2019])"
      ]
    },
    {
      "cell_type": "code",
      "execution_count": null,
      "id": "21f95cff-ce4d-40a0-89ce-9f0be8312139",
      "metadata": {
        "id": "21f95cff-ce4d-40a0-89ce-9f0be8312139",
        "outputId": "2c147ad3-b622-442e-ff23-a0d1e754d42e"
      },
      "outputs": [
        {
          "data": {
            "text/html": [
              "<div>\n",
              "<style scoped>\n",
              "    .dataframe tbody tr th:only-of-type {\n",
              "        vertical-align: middle;\n",
              "    }\n",
              "\n",
              "    .dataframe tbody tr th {\n",
              "        vertical-align: top;\n",
              "    }\n",
              "\n",
              "    .dataframe thead th {\n",
              "        text-align: right;\n",
              "    }\n",
              "</style>\n",
              "<table border=\"1\" class=\"dataframe\">\n",
              "  <thead>\n",
              "    <tr style=\"text-align: right;\">\n",
              "      <th></th>\n",
              "      <th>제품1</th>\n",
              "      <th>제품2</th>\n",
              "      <th>제품3</th>\n",
              "      <th>제품4</th>\n",
              "    </tr>\n",
              "    <tr>\n",
              "      <th>연도</th>\n",
              "      <th></th>\n",
              "      <th></th>\n",
              "      <th></th>\n",
              "      <th></th>\n",
              "    </tr>\n",
              "  </thead>\n",
              "  <tbody>\n",
              "    <tr>\n",
              "      <th>2015</th>\n",
              "      <td>250.0</td>\n",
              "      <td>150</td>\n",
              "      <td>NaN</td>\n",
              "      <td>NaN</td>\n",
              "    </tr>\n",
              "    <tr>\n",
              "      <th>2016</th>\n",
              "      <td>200.0</td>\n",
              "      <td>160</td>\n",
              "      <td>170.0</td>\n",
              "      <td>NaN</td>\n",
              "    </tr>\n",
              "    <tr>\n",
              "      <th>2017</th>\n",
              "      <td>150.0</td>\n",
              "      <td>200</td>\n",
              "      <td>100.0</td>\n",
              "      <td>150.0</td>\n",
              "    </tr>\n",
              "    <tr>\n",
              "      <th>2018</th>\n",
              "      <td>120.0</td>\n",
              "      <td>230</td>\n",
              "      <td>130.0</td>\n",
              "      <td>170.0</td>\n",
              "    </tr>\n",
              "    <tr>\n",
              "      <th>2019</th>\n",
              "      <td>NaN</td>\n",
              "      <td>250</td>\n",
              "      <td>140.0</td>\n",
              "      <td>NaN</td>\n",
              "    </tr>\n",
              "  </tbody>\n",
              "</table>\n",
              "</div>"
            ],
            "text/plain": [
              "        제품1  제품2    제품3    제품4\n",
              "연도                            \n",
              "2015  250.0  150    NaN    NaN\n",
              "2016  200.0  160  170.0    NaN\n",
              "2017  150.0  200  100.0  150.0\n",
              "2018  120.0  230  130.0  170.0\n",
              "2019    NaN  250  140.0    NaN"
            ]
          },
          "execution_count": 87,
          "metadata": {},
          "output_type": "execute_result"
        }
      ],
      "source": [
        "df"
      ]
    },
    {
      "cell_type": "code",
      "execution_count": null,
      "id": "7b672c54-47c2-4a87-a7e5-ecf6f0d276db",
      "metadata": {
        "id": "7b672c54-47c2-4a87-a7e5-ecf6f0d276db"
      },
      "outputs": [],
      "source": [
        "df=df.drop(index=[2019])"
      ]
    },
    {
      "cell_type": "code",
      "execution_count": null,
      "id": "1899fb2a-da6e-4c08-8529-e7807095366f",
      "metadata": {
        "id": "1899fb2a-da6e-4c08-8529-e7807095366f",
        "outputId": "d50b7d92-070b-428a-edfe-80dae35beded"
      },
      "outputs": [
        {
          "data": {
            "text/html": [
              "<div>\n",
              "<style scoped>\n",
              "    .dataframe tbody tr th:only-of-type {\n",
              "        vertical-align: middle;\n",
              "    }\n",
              "\n",
              "    .dataframe tbody tr th {\n",
              "        vertical-align: top;\n",
              "    }\n",
              "\n",
              "    .dataframe thead th {\n",
              "        text-align: right;\n",
              "    }\n",
              "</style>\n",
              "<table border=\"1\" class=\"dataframe\">\n",
              "  <thead>\n",
              "    <tr style=\"text-align: right;\">\n",
              "      <th></th>\n",
              "      <th>제품1</th>\n",
              "      <th>제품2</th>\n",
              "      <th>제품3</th>\n",
              "      <th>제품4</th>\n",
              "    </tr>\n",
              "    <tr>\n",
              "      <th>연도</th>\n",
              "      <th></th>\n",
              "      <th></th>\n",
              "      <th></th>\n",
              "      <th></th>\n",
              "    </tr>\n",
              "  </thead>\n",
              "  <tbody>\n",
              "    <tr>\n",
              "      <th>2015</th>\n",
              "      <td>250.0</td>\n",
              "      <td>150</td>\n",
              "      <td>NaN</td>\n",
              "      <td>NaN</td>\n",
              "    </tr>\n",
              "    <tr>\n",
              "      <th>2016</th>\n",
              "      <td>200.0</td>\n",
              "      <td>160</td>\n",
              "      <td>170.0</td>\n",
              "      <td>NaN</td>\n",
              "    </tr>\n",
              "    <tr>\n",
              "      <th>2017</th>\n",
              "      <td>150.0</td>\n",
              "      <td>200</td>\n",
              "      <td>100.0</td>\n",
              "      <td>150.0</td>\n",
              "    </tr>\n",
              "    <tr>\n",
              "      <th>2018</th>\n",
              "      <td>120.0</td>\n",
              "      <td>230</td>\n",
              "      <td>130.0</td>\n",
              "      <td>170.0</td>\n",
              "    </tr>\n",
              "  </tbody>\n",
              "</table>\n",
              "</div>"
            ],
            "text/plain": [
              "        제품1  제품2    제품3    제품4\n",
              "연도                            \n",
              "2015  250.0  150    NaN    NaN\n",
              "2016  200.0  160  170.0    NaN\n",
              "2017  150.0  200  100.0  150.0\n",
              "2018  120.0  230  130.0  170.0"
            ]
          },
          "execution_count": 89,
          "metadata": {},
          "output_type": "execute_result"
        }
      ],
      "source": [
        "df"
      ]
    },
    {
      "cell_type": "code",
      "execution_count": null,
      "id": "1072317e-7c4e-4ccf-ad75-f9e5332a5140",
      "metadata": {
        "id": "1072317e-7c4e-4ccf-ad75-f9e5332a5140"
      },
      "outputs": [],
      "source": [
        "df2=df"
      ]
    },
    {
      "cell_type": "code",
      "execution_count": null,
      "id": "5161f0b4-0c04-4187-bb57-3542f6d74aff",
      "metadata": {
        "id": "5161f0b4-0c04-4187-bb57-3542f6d74aff",
        "outputId": "64370471-0237-472d-b59a-d694b600f427"
      },
      "outputs": [
        {
          "data": {
            "text/html": [
              "<div>\n",
              "<style scoped>\n",
              "    .dataframe tbody tr th:only-of-type {\n",
              "        vertical-align: middle;\n",
              "    }\n",
              "\n",
              "    .dataframe tbody tr th {\n",
              "        vertical-align: top;\n",
              "    }\n",
              "\n",
              "    .dataframe thead th {\n",
              "        text-align: right;\n",
              "    }\n",
              "</style>\n",
              "<table border=\"1\" class=\"dataframe\">\n",
              "  <thead>\n",
              "    <tr style=\"text-align: right;\">\n",
              "      <th></th>\n",
              "      <th>제품1</th>\n",
              "      <th>제품2</th>\n",
              "      <th>제품3</th>\n",
              "      <th>제품4</th>\n",
              "    </tr>\n",
              "    <tr>\n",
              "      <th>연도</th>\n",
              "      <th></th>\n",
              "      <th></th>\n",
              "      <th></th>\n",
              "      <th></th>\n",
              "    </tr>\n",
              "  </thead>\n",
              "  <tbody>\n",
              "    <tr>\n",
              "      <th>2015</th>\n",
              "      <td>250.0</td>\n",
              "      <td>150</td>\n",
              "      <td>NaN</td>\n",
              "      <td>NaN</td>\n",
              "    </tr>\n",
              "    <tr>\n",
              "      <th>2016</th>\n",
              "      <td>200.0</td>\n",
              "      <td>160</td>\n",
              "      <td>170.0</td>\n",
              "      <td>NaN</td>\n",
              "    </tr>\n",
              "    <tr>\n",
              "      <th>2017</th>\n",
              "      <td>150.0</td>\n",
              "      <td>200</td>\n",
              "      <td>100.0</td>\n",
              "      <td>150.0</td>\n",
              "    </tr>\n",
              "    <tr>\n",
              "      <th>2018</th>\n",
              "      <td>120.0</td>\n",
              "      <td>230</td>\n",
              "      <td>130.0</td>\n",
              "      <td>170.0</td>\n",
              "    </tr>\n",
              "  </tbody>\n",
              "</table>\n",
              "</div>"
            ],
            "text/plain": [
              "        제품1  제품2    제품3    제품4\n",
              "연도                            \n",
              "2015  250.0  150    NaN    NaN\n",
              "2016  200.0  160  170.0    NaN\n",
              "2017  150.0  200  100.0  150.0\n",
              "2018  120.0  230  130.0  170.0"
            ]
          },
          "execution_count": 93,
          "metadata": {},
          "output_type": "execute_result"
        }
      ],
      "source": [
        "df2"
      ]
    },
    {
      "cell_type": "code",
      "execution_count": null,
      "id": "b216d08a-ffd0-4bbd-b717-a50d4d35524c",
      "metadata": {
        "id": "b216d08a-ffd0-4bbd-b717-a50d4d35524c"
      },
      "outputs": [],
      "source": [
        "df3=df2.drop(columns=['제품3','제품4'])"
      ]
    },
    {
      "cell_type": "code",
      "execution_count": null,
      "id": "5d5cb0a2-5f84-4218-b59c-2a2889fe1824",
      "metadata": {
        "id": "5d5cb0a2-5f84-4218-b59c-2a2889fe1824",
        "outputId": "0b7ad21c-0973-4eb9-ca4a-8475b724941b"
      },
      "outputs": [
        {
          "data": {
            "text/html": [
              "<div>\n",
              "<style scoped>\n",
              "    .dataframe tbody tr th:only-of-type {\n",
              "        vertical-align: middle;\n",
              "    }\n",
              "\n",
              "    .dataframe tbody tr th {\n",
              "        vertical-align: top;\n",
              "    }\n",
              "\n",
              "    .dataframe thead th {\n",
              "        text-align: right;\n",
              "    }\n",
              "</style>\n",
              "<table border=\"1\" class=\"dataframe\">\n",
              "  <thead>\n",
              "    <tr style=\"text-align: right;\">\n",
              "      <th></th>\n",
              "      <th>제품1</th>\n",
              "      <th>제품2</th>\n",
              "    </tr>\n",
              "    <tr>\n",
              "      <th>연도</th>\n",
              "      <th></th>\n",
              "      <th></th>\n",
              "    </tr>\n",
              "  </thead>\n",
              "  <tbody>\n",
              "    <tr>\n",
              "      <th>2015</th>\n",
              "      <td>250.0</td>\n",
              "      <td>150</td>\n",
              "    </tr>\n",
              "    <tr>\n",
              "      <th>2016</th>\n",
              "      <td>200.0</td>\n",
              "      <td>160</td>\n",
              "    </tr>\n",
              "    <tr>\n",
              "      <th>2017</th>\n",
              "      <td>150.0</td>\n",
              "      <td>200</td>\n",
              "    </tr>\n",
              "    <tr>\n",
              "      <th>2018</th>\n",
              "      <td>120.0</td>\n",
              "      <td>230</td>\n",
              "    </tr>\n",
              "  </tbody>\n",
              "</table>\n",
              "</div>"
            ],
            "text/plain": [
              "        제품1  제품2\n",
              "연도              \n",
              "2015  250.0  150\n",
              "2016  200.0  160\n",
              "2017  150.0  200\n",
              "2018  120.0  230"
            ]
          },
          "execution_count": 95,
          "metadata": {},
          "output_type": "execute_result"
        }
      ],
      "source": [
        "df3"
      ]
    },
    {
      "cell_type": "code",
      "execution_count": null,
      "id": "0f6c9d75-9bac-44b6-a429-728d717f99ac",
      "metadata": {
        "id": "0f6c9d75-9bac-44b6-a429-728d717f99ac",
        "outputId": "6e8c8d1c-6bd8-4eed-d696-a7a9f8ebcb9e"
      },
      "outputs": [
        {
          "data": {
            "text/html": [
              "<div>\n",
              "<style scoped>\n",
              "    .dataframe tbody tr th:only-of-type {\n",
              "        vertical-align: middle;\n",
              "    }\n",
              "\n",
              "    .dataframe tbody tr th {\n",
              "        vertical-align: top;\n",
              "    }\n",
              "\n",
              "    .dataframe thead th {\n",
              "        text-align: right;\n",
              "    }\n",
              "</style>\n",
              "<table border=\"1\" class=\"dataframe\">\n",
              "  <thead>\n",
              "    <tr style=\"text-align: right;\">\n",
              "      <th></th>\n",
              "      <th>제품1</th>\n",
              "      <th>제품2</th>\n",
              "      <th>제품3</th>\n",
              "      <th>제품4</th>\n",
              "    </tr>\n",
              "    <tr>\n",
              "      <th>연도</th>\n",
              "      <th></th>\n",
              "      <th></th>\n",
              "      <th></th>\n",
              "      <th></th>\n",
              "    </tr>\n",
              "  </thead>\n",
              "  <tbody>\n",
              "    <tr>\n",
              "      <th>2015</th>\n",
              "      <td>250.0</td>\n",
              "      <td>150</td>\n",
              "      <td>NaN</td>\n",
              "      <td>NaN</td>\n",
              "    </tr>\n",
              "    <tr>\n",
              "      <th>2016</th>\n",
              "      <td>200.0</td>\n",
              "      <td>160</td>\n",
              "      <td>170.0</td>\n",
              "      <td>NaN</td>\n",
              "    </tr>\n",
              "    <tr>\n",
              "      <th>2017</th>\n",
              "      <td>150.0</td>\n",
              "      <td>200</td>\n",
              "      <td>100.0</td>\n",
              "      <td>150.0</td>\n",
              "    </tr>\n",
              "    <tr>\n",
              "      <th>2018</th>\n",
              "      <td>120.0</td>\n",
              "      <td>230</td>\n",
              "      <td>130.0</td>\n",
              "      <td>170.0</td>\n",
              "    </tr>\n",
              "  </tbody>\n",
              "</table>\n",
              "</div>"
            ],
            "text/plain": [
              "        제품1  제품2    제품3    제품4\n",
              "연도                            \n",
              "2015  250.0  150    NaN    NaN\n",
              "2016  200.0  160  170.0    NaN\n",
              "2017  150.0  200  100.0  150.0\n",
              "2018  120.0  230  130.0  170.0"
            ]
          },
          "execution_count": 96,
          "metadata": {},
          "output_type": "execute_result"
        }
      ],
      "source": [
        "df"
      ]
    },
    {
      "cell_type": "code",
      "execution_count": null,
      "id": "b039993b-d733-48a6-b5fd-61fa771056be",
      "metadata": {
        "id": "b039993b-d733-48a6-b5fd-61fa771056be",
        "outputId": "96f5b841-83b9-4a30-83fd-b5bd8544c136"
      },
      "outputs": [
        {
          "data": {
            "text/html": [
              "<div>\n",
              "<style scoped>\n",
              "    .dataframe tbody tr th:only-of-type {\n",
              "        vertical-align: middle;\n",
              "    }\n",
              "\n",
              "    .dataframe tbody tr th {\n",
              "        vertical-align: top;\n",
              "    }\n",
              "\n",
              "    .dataframe thead th {\n",
              "        text-align: right;\n",
              "    }\n",
              "</style>\n",
              "<table border=\"1\" class=\"dataframe\">\n",
              "  <thead>\n",
              "    <tr style=\"text-align: right;\">\n",
              "      <th></th>\n",
              "      <th>연도</th>\n",
              "      <th>제품1</th>\n",
              "      <th>제품2</th>\n",
              "      <th>제품3</th>\n",
              "      <th>제품4</th>\n",
              "    </tr>\n",
              "  </thead>\n",
              "  <tbody>\n",
              "    <tr>\n",
              "      <th>0</th>\n",
              "      <td>2015</td>\n",
              "      <td>250.0</td>\n",
              "      <td>150</td>\n",
              "      <td>NaN</td>\n",
              "      <td>NaN</td>\n",
              "    </tr>\n",
              "    <tr>\n",
              "      <th>1</th>\n",
              "      <td>2016</td>\n",
              "      <td>200.0</td>\n",
              "      <td>160</td>\n",
              "      <td>170.0</td>\n",
              "      <td>NaN</td>\n",
              "    </tr>\n",
              "    <tr>\n",
              "      <th>2</th>\n",
              "      <td>2017</td>\n",
              "      <td>150.0</td>\n",
              "      <td>200</td>\n",
              "      <td>100.0</td>\n",
              "      <td>150.0</td>\n",
              "    </tr>\n",
              "    <tr>\n",
              "      <th>3</th>\n",
              "      <td>2018</td>\n",
              "      <td>120.0</td>\n",
              "      <td>230</td>\n",
              "      <td>130.0</td>\n",
              "      <td>170.0</td>\n",
              "    </tr>\n",
              "    <tr>\n",
              "      <th>4</th>\n",
              "      <td>2019</td>\n",
              "      <td>NaN</td>\n",
              "      <td>250</td>\n",
              "      <td>140.0</td>\n",
              "      <td>NaN</td>\n",
              "    </tr>\n",
              "  </tbody>\n",
              "</table>\n",
              "</div>"
            ],
            "text/plain": [
              "     연도    제품1  제품2    제품3    제품4\n",
              "0  2015  250.0  150    NaN    NaN\n",
              "1  2016  200.0  160  170.0    NaN\n",
              "2  2017  150.0  200  100.0  150.0\n",
              "3  2018  120.0  230  130.0  170.0\n",
              "4  2019    NaN  250  140.0    NaN"
            ]
          },
          "execution_count": 106,
          "metadata": {},
          "output_type": "execute_result"
        }
      ],
      "source": [
        "import pandas as pd\n",
        "data_file = \"C:/myPyCode/data/missing_data_test.csv\"\n",
        "df=pd.read_csv(data_file, encoding='cp949')\n",
        "df"
      ]
    },
    {
      "cell_type": "code",
      "execution_count": null,
      "id": "310a7fc9-51ae-41ac-8b20-9fa47350c67c",
      "metadata": {
        "id": "310a7fc9-51ae-41ac-8b20-9fa47350c67c"
      },
      "outputs": [],
      "source": [
        "df_copy=df.copy()"
      ]
    },
    {
      "cell_type": "code",
      "execution_count": null,
      "id": "119cb5cf-11a8-40cf-99e1-03df978c0013",
      "metadata": {
        "id": "119cb5cf-11a8-40cf-99e1-03df978c0013",
        "outputId": "73990993-507c-4b18-bbe2-d5163f3eb308"
      },
      "outputs": [
        {
          "data": {
            "text/html": [
              "<div>\n",
              "<style scoped>\n",
              "    .dataframe tbody tr th:only-of-type {\n",
              "        vertical-align: middle;\n",
              "    }\n",
              "\n",
              "    .dataframe tbody tr th {\n",
              "        vertical-align: top;\n",
              "    }\n",
              "\n",
              "    .dataframe thead th {\n",
              "        text-align: right;\n",
              "    }\n",
              "</style>\n",
              "<table border=\"1\" class=\"dataframe\">\n",
              "  <thead>\n",
              "    <tr style=\"text-align: right;\">\n",
              "      <th></th>\n",
              "      <th>연도</th>\n",
              "      <th>제품1</th>\n",
              "      <th>제품2</th>\n",
              "      <th>제품3</th>\n",
              "      <th>제품4</th>\n",
              "    </tr>\n",
              "  </thead>\n",
              "  <tbody>\n",
              "    <tr>\n",
              "      <th>0</th>\n",
              "      <td>2015</td>\n",
              "      <td>250.0</td>\n",
              "      <td>150</td>\n",
              "      <td>NaN</td>\n",
              "      <td>NaN</td>\n",
              "    </tr>\n",
              "    <tr>\n",
              "      <th>1</th>\n",
              "      <td>2016</td>\n",
              "      <td>200.0</td>\n",
              "      <td>160</td>\n",
              "      <td>170.0</td>\n",
              "      <td>NaN</td>\n",
              "    </tr>\n",
              "    <tr>\n",
              "      <th>2</th>\n",
              "      <td>2017</td>\n",
              "      <td>150.0</td>\n",
              "      <td>200</td>\n",
              "      <td>100.0</td>\n",
              "      <td>150.0</td>\n",
              "    </tr>\n",
              "    <tr>\n",
              "      <th>3</th>\n",
              "      <td>2018</td>\n",
              "      <td>120.0</td>\n",
              "      <td>230</td>\n",
              "      <td>130.0</td>\n",
              "      <td>170.0</td>\n",
              "    </tr>\n",
              "    <tr>\n",
              "      <th>4</th>\n",
              "      <td>2019</td>\n",
              "      <td>NaN</td>\n",
              "      <td>250</td>\n",
              "      <td>140.0</td>\n",
              "      <td>NaN</td>\n",
              "    </tr>\n",
              "  </tbody>\n",
              "</table>\n",
              "</div>"
            ],
            "text/plain": [
              "     연도    제품1  제품2    제품3    제품4\n",
              "0  2015  250.0  150    NaN    NaN\n",
              "1  2016  200.0  160  170.0    NaN\n",
              "2  2017  150.0  200  100.0  150.0\n",
              "3  2018  120.0  230  130.0  170.0\n",
              "4  2019    NaN  250  140.0    NaN"
            ]
          },
          "execution_count": 108,
          "metadata": {},
          "output_type": "execute_result"
        }
      ],
      "source": [
        "df_copy"
      ]
    },
    {
      "cell_type": "code",
      "execution_count": null,
      "id": "5eaa2ce9-db83-4ec2-a61a-acc77a098b1a",
      "metadata": {
        "id": "5eaa2ce9-db83-4ec2-a61a-acc77a098b1a",
        "outputId": "65604a2c-6435-40a4-9563-e31d8d7b69b3"
      },
      "outputs": [
        {
          "data": {
            "text/html": [
              "<div>\n",
              "<style scoped>\n",
              "    .dataframe tbody tr th:only-of-type {\n",
              "        vertical-align: middle;\n",
              "    }\n",
              "\n",
              "    .dataframe tbody tr th {\n",
              "        vertical-align: top;\n",
              "    }\n",
              "\n",
              "    .dataframe thead th {\n",
              "        text-align: right;\n",
              "    }\n",
              "</style>\n",
              "<table border=\"1\" class=\"dataframe\">\n",
              "  <thead>\n",
              "    <tr style=\"text-align: right;\">\n",
              "      <th></th>\n",
              "      <th>연도</th>\n",
              "      <th>제품1</th>\n",
              "      <th>제품2</th>\n",
              "      <th>제품3</th>\n",
              "      <th>제품4</th>\n",
              "    </tr>\n",
              "  </thead>\n",
              "  <tbody>\n",
              "    <tr>\n",
              "      <th>2</th>\n",
              "      <td>2017</td>\n",
              "      <td>150.0</td>\n",
              "      <td>200</td>\n",
              "      <td>100.0</td>\n",
              "      <td>150.0</td>\n",
              "    </tr>\n",
              "    <tr>\n",
              "      <th>3</th>\n",
              "      <td>2018</td>\n",
              "      <td>120.0</td>\n",
              "      <td>230</td>\n",
              "      <td>130.0</td>\n",
              "      <td>170.0</td>\n",
              "    </tr>\n",
              "  </tbody>\n",
              "</table>\n",
              "</div>"
            ],
            "text/plain": [
              "     연도    제품1  제품2    제품3    제품4\n",
              "2  2017  150.0  200  100.0  150.0\n",
              "3  2018  120.0  230  130.0  170.0"
            ]
          },
          "execution_count": 109,
          "metadata": {},
          "output_type": "execute_result"
        }
      ],
      "source": [
        "df_copy.dropna()"
      ]
    },
    {
      "cell_type": "code",
      "execution_count": null,
      "id": "06dc1c83-a204-4cc3-8392-900dd0fa758c",
      "metadata": {
        "id": "06dc1c83-a204-4cc3-8392-900dd0fa758c"
      },
      "outputs": [],
      "source": [
        "df_copy2=df.copy()"
      ]
    },
    {
      "cell_type": "code",
      "execution_count": null,
      "id": "8eb543c0-2eb8-45ee-a595-daacd07a6145",
      "metadata": {
        "id": "8eb543c0-2eb8-45ee-a595-daacd07a6145",
        "outputId": "bbe4daff-19f4-4cc4-dab8-613af3131287"
      },
      "outputs": [
        {
          "data": {
            "text/html": [
              "<div>\n",
              "<style scoped>\n",
              "    .dataframe tbody tr th:only-of-type {\n",
              "        vertical-align: middle;\n",
              "    }\n",
              "\n",
              "    .dataframe tbody tr th {\n",
              "        vertical-align: top;\n",
              "    }\n",
              "\n",
              "    .dataframe thead th {\n",
              "        text-align: right;\n",
              "    }\n",
              "</style>\n",
              "<table border=\"1\" class=\"dataframe\">\n",
              "  <thead>\n",
              "    <tr style=\"text-align: right;\">\n",
              "      <th></th>\n",
              "      <th>연도</th>\n",
              "      <th>제품1</th>\n",
              "      <th>제품2</th>\n",
              "      <th>제품3</th>\n",
              "      <th>제품4</th>\n",
              "    </tr>\n",
              "  </thead>\n",
              "  <tbody>\n",
              "    <tr>\n",
              "      <th>0</th>\n",
              "      <td>2015</td>\n",
              "      <td>250.0</td>\n",
              "      <td>150</td>\n",
              "      <td>NaN</td>\n",
              "      <td>NaN</td>\n",
              "    </tr>\n",
              "    <tr>\n",
              "      <th>1</th>\n",
              "      <td>2016</td>\n",
              "      <td>200.0</td>\n",
              "      <td>160</td>\n",
              "      <td>170.0</td>\n",
              "      <td>NaN</td>\n",
              "    </tr>\n",
              "    <tr>\n",
              "      <th>2</th>\n",
              "      <td>2017</td>\n",
              "      <td>150.0</td>\n",
              "      <td>200</td>\n",
              "      <td>100.0</td>\n",
              "      <td>150.0</td>\n",
              "    </tr>\n",
              "    <tr>\n",
              "      <th>3</th>\n",
              "      <td>2018</td>\n",
              "      <td>120.0</td>\n",
              "      <td>230</td>\n",
              "      <td>130.0</td>\n",
              "      <td>170.0</td>\n",
              "    </tr>\n",
              "    <tr>\n",
              "      <th>4</th>\n",
              "      <td>2019</td>\n",
              "      <td>NaN</td>\n",
              "      <td>250</td>\n",
              "      <td>140.0</td>\n",
              "      <td>NaN</td>\n",
              "    </tr>\n",
              "  </tbody>\n",
              "</table>\n",
              "</div>"
            ],
            "text/plain": [
              "     연도    제품1  제품2    제품3    제품4\n",
              "0  2015  250.0  150    NaN    NaN\n",
              "1  2016  200.0  160  170.0    NaN\n",
              "2  2017  150.0  200  100.0  150.0\n",
              "3  2018  120.0  230  130.0  170.0\n",
              "4  2019    NaN  250  140.0    NaN"
            ]
          },
          "execution_count": 111,
          "metadata": {},
          "output_type": "execute_result"
        }
      ],
      "source": [
        "df_copy2"
      ]
    },
    {
      "cell_type": "code",
      "execution_count": null,
      "id": "43614fbc-e7da-4133-81dd-e23f2a46390b",
      "metadata": {
        "id": "43614fbc-e7da-4133-81dd-e23f2a46390b",
        "outputId": "38b9e979-f789-4a05-f9e5-ae37f715ab91"
      },
      "outputs": [
        {
          "data": {
            "text/html": [
              "<div>\n",
              "<style scoped>\n",
              "    .dataframe tbody tr th:only-of-type {\n",
              "        vertical-align: middle;\n",
              "    }\n",
              "\n",
              "    .dataframe tbody tr th {\n",
              "        vertical-align: top;\n",
              "    }\n",
              "\n",
              "    .dataframe thead th {\n",
              "        text-align: right;\n",
              "    }\n",
              "</style>\n",
              "<table border=\"1\" class=\"dataframe\">\n",
              "  <thead>\n",
              "    <tr style=\"text-align: right;\">\n",
              "      <th></th>\n",
              "      <th>연도</th>\n",
              "      <th>제품2</th>\n",
              "    </tr>\n",
              "  </thead>\n",
              "  <tbody>\n",
              "    <tr>\n",
              "      <th>0</th>\n",
              "      <td>2015</td>\n",
              "      <td>150</td>\n",
              "    </tr>\n",
              "    <tr>\n",
              "      <th>1</th>\n",
              "      <td>2016</td>\n",
              "      <td>160</td>\n",
              "    </tr>\n",
              "    <tr>\n",
              "      <th>2</th>\n",
              "      <td>2017</td>\n",
              "      <td>200</td>\n",
              "    </tr>\n",
              "    <tr>\n",
              "      <th>3</th>\n",
              "      <td>2018</td>\n",
              "      <td>230</td>\n",
              "    </tr>\n",
              "    <tr>\n",
              "      <th>4</th>\n",
              "      <td>2019</td>\n",
              "      <td>250</td>\n",
              "    </tr>\n",
              "  </tbody>\n",
              "</table>\n",
              "</div>"
            ],
            "text/plain": [
              "     연도  제품2\n",
              "0  2015  150\n",
              "1  2016  160\n",
              "2  2017  200\n",
              "3  2018  230\n",
              "4  2019  250"
            ]
          },
          "execution_count": 112,
          "metadata": {},
          "output_type": "execute_result"
        }
      ],
      "source": [
        "df_copy2.dropna(axis=1)"
      ]
    },
    {
      "cell_type": "code",
      "execution_count": null,
      "id": "b19d356c-2bc2-45fa-b175-d1a16c3f56f3",
      "metadata": {
        "id": "b19d356c-2bc2-45fa-b175-d1a16c3f56f3",
        "outputId": "e9364780-32e9-4bd3-aaaf-512aebe440cc"
      },
      "outputs": [
        {
          "data": {
            "text/html": [
              "<div>\n",
              "<style scoped>\n",
              "    .dataframe tbody tr th:only-of-type {\n",
              "        vertical-align: middle;\n",
              "    }\n",
              "\n",
              "    .dataframe tbody tr th {\n",
              "        vertical-align: top;\n",
              "    }\n",
              "\n",
              "    .dataframe thead th {\n",
              "        text-align: right;\n",
              "    }\n",
              "</style>\n",
              "<table border=\"1\" class=\"dataframe\">\n",
              "  <thead>\n",
              "    <tr style=\"text-align: right;\">\n",
              "      <th></th>\n",
              "      <th>연도</th>\n",
              "      <th>제품2</th>\n",
              "    </tr>\n",
              "  </thead>\n",
              "  <tbody>\n",
              "    <tr>\n",
              "      <th>0</th>\n",
              "      <td>2015</td>\n",
              "      <td>150</td>\n",
              "    </tr>\n",
              "    <tr>\n",
              "      <th>1</th>\n",
              "      <td>2016</td>\n",
              "      <td>160</td>\n",
              "    </tr>\n",
              "    <tr>\n",
              "      <th>2</th>\n",
              "      <td>2017</td>\n",
              "      <td>200</td>\n",
              "    </tr>\n",
              "    <tr>\n",
              "      <th>3</th>\n",
              "      <td>2018</td>\n",
              "      <td>230</td>\n",
              "    </tr>\n",
              "    <tr>\n",
              "      <th>4</th>\n",
              "      <td>2019</td>\n",
              "      <td>250</td>\n",
              "    </tr>\n",
              "  </tbody>\n",
              "</table>\n",
              "</div>"
            ],
            "text/plain": [
              "     연도  제품2\n",
              "0  2015  150\n",
              "1  2016  160\n",
              "2  2017  200\n",
              "3  2018  230\n",
              "4  2019  250"
            ]
          },
          "execution_count": 116,
          "metadata": {},
          "output_type": "execute_result"
        }
      ],
      "source": [
        "df_copy2.dropna(axis=1)"
      ]
    },
    {
      "cell_type": "code",
      "execution_count": null,
      "id": "8f9d6bc3-98f7-4f76-963e-b7704678a7a1",
      "metadata": {
        "id": "8f9d6bc3-98f7-4f76-963e-b7704678a7a1"
      },
      "outputs": [],
      "source": [
        "df_copy2_index=df_copy2.set_index('연도')"
      ]
    },
    {
      "cell_type": "code",
      "execution_count": null,
      "id": "2145388e-9d6a-4345-b7ee-e5e81ade5fab",
      "metadata": {
        "id": "2145388e-9d6a-4345-b7ee-e5e81ade5fab"
      },
      "outputs": [],
      "source": [
        "# help(df_copy.dropna)"
      ]
    },
    {
      "cell_type": "code",
      "execution_count": null,
      "id": "21894182-1d68-40e0-b322-501acd5ab6ce",
      "metadata": {
        "id": "21894182-1d68-40e0-b322-501acd5ab6ce",
        "outputId": "9c1634ff-6af4-432a-c138-4e358c31046b"
      },
      "outputs": [
        {
          "data": {
            "text/html": [
              "<div>\n",
              "<style scoped>\n",
              "    .dataframe tbody tr th:only-of-type {\n",
              "        vertical-align: middle;\n",
              "    }\n",
              "\n",
              "    .dataframe tbody tr th {\n",
              "        vertical-align: top;\n",
              "    }\n",
              "\n",
              "    .dataframe thead th {\n",
              "        text-align: right;\n",
              "    }\n",
              "</style>\n",
              "<table border=\"1\" class=\"dataframe\">\n",
              "  <thead>\n",
              "    <tr style=\"text-align: right;\">\n",
              "      <th></th>\n",
              "      <th>제품1</th>\n",
              "      <th>제품2</th>\n",
              "      <th>제품3</th>\n",
              "      <th>제품4</th>\n",
              "    </tr>\n",
              "    <tr>\n",
              "      <th>연도</th>\n",
              "      <th></th>\n",
              "      <th></th>\n",
              "      <th></th>\n",
              "      <th></th>\n",
              "    </tr>\n",
              "  </thead>\n",
              "  <tbody>\n",
              "    <tr>\n",
              "      <th>2015</th>\n",
              "      <td>250.0</td>\n",
              "      <td>150</td>\n",
              "      <td>NaN</td>\n",
              "      <td>NaN</td>\n",
              "    </tr>\n",
              "    <tr>\n",
              "      <th>2016</th>\n",
              "      <td>200.0</td>\n",
              "      <td>160</td>\n",
              "      <td>170.0</td>\n",
              "      <td>NaN</td>\n",
              "    </tr>\n",
              "    <tr>\n",
              "      <th>2017</th>\n",
              "      <td>150.0</td>\n",
              "      <td>200</td>\n",
              "      <td>100.0</td>\n",
              "      <td>150.0</td>\n",
              "    </tr>\n",
              "    <tr>\n",
              "      <th>2018</th>\n",
              "      <td>120.0</td>\n",
              "      <td>230</td>\n",
              "      <td>130.0</td>\n",
              "      <td>170.0</td>\n",
              "    </tr>\n",
              "    <tr>\n",
              "      <th>2019</th>\n",
              "      <td>NaN</td>\n",
              "      <td>250</td>\n",
              "      <td>140.0</td>\n",
              "      <td>NaN</td>\n",
              "    </tr>\n",
              "  </tbody>\n",
              "</table>\n",
              "</div>"
            ],
            "text/plain": [
              "        제품1  제품2    제품3    제품4\n",
              "연도                            \n",
              "2015  250.0  150    NaN    NaN\n",
              "2016  200.0  160  170.0    NaN\n",
              "2017  150.0  200  100.0  150.0\n",
              "2018  120.0  230  130.0  170.0\n",
              "2019    NaN  250  140.0    NaN"
            ]
          },
          "execution_count": 119,
          "metadata": {},
          "output_type": "execute_result"
        }
      ],
      "source": [
        "df_copy2_index"
      ]
    },
    {
      "cell_type": "code",
      "execution_count": null,
      "id": "784920b2-f048-4da3-bf16-9b3f82d11cc0",
      "metadata": {
        "id": "784920b2-f048-4da3-bf16-9b3f82d11cc0",
        "outputId": "113b0a5e-eac3-4f16-fc58-0858960084a3"
      },
      "outputs": [
        {
          "data": {
            "text/html": [
              "<div>\n",
              "<style scoped>\n",
              "    .dataframe tbody tr th:only-of-type {\n",
              "        vertical-align: middle;\n",
              "    }\n",
              "\n",
              "    .dataframe tbody tr th {\n",
              "        vertical-align: top;\n",
              "    }\n",
              "\n",
              "    .dataframe thead th {\n",
              "        text-align: right;\n",
              "    }\n",
              "</style>\n",
              "<table border=\"1\" class=\"dataframe\">\n",
              "  <thead>\n",
              "    <tr style=\"text-align: right;\">\n",
              "      <th></th>\n",
              "      <th>제품1</th>\n",
              "      <th>제품2</th>\n",
              "    </tr>\n",
              "    <tr>\n",
              "      <th>연도</th>\n",
              "      <th></th>\n",
              "      <th></th>\n",
              "    </tr>\n",
              "  </thead>\n",
              "  <tbody>\n",
              "    <tr>\n",
              "      <th>2015</th>\n",
              "      <td>250.0</td>\n",
              "      <td>150</td>\n",
              "    </tr>\n",
              "    <tr>\n",
              "      <th>2016</th>\n",
              "      <td>200.0</td>\n",
              "      <td>160</td>\n",
              "    </tr>\n",
              "    <tr>\n",
              "      <th>2017</th>\n",
              "      <td>150.0</td>\n",
              "      <td>200</td>\n",
              "    </tr>\n",
              "    <tr>\n",
              "      <th>2018</th>\n",
              "      <td>120.0</td>\n",
              "      <td>230</td>\n",
              "    </tr>\n",
              "    <tr>\n",
              "      <th>2019</th>\n",
              "      <td>NaN</td>\n",
              "      <td>250</td>\n",
              "    </tr>\n",
              "  </tbody>\n",
              "</table>\n",
              "</div>"
            ],
            "text/plain": [
              "        제품1  제품2\n",
              "연도              \n",
              "2015  250.0  150\n",
              "2016  200.0  160\n",
              "2017  150.0  200\n",
              "2018  120.0  230\n",
              "2019    NaN  250"
            ]
          },
          "execution_count": 120,
          "metadata": {},
          "output_type": "execute_result"
        }
      ],
      "source": [
        "df_copy2_index.dropna(axis=1,subset=[2015])"
      ]
    },
    {
      "cell_type": "code",
      "execution_count": null,
      "id": "33a98eb9-d8a6-430e-ac16-aed8d2913266",
      "metadata": {
        "id": "33a98eb9-d8a6-430e-ac16-aed8d2913266",
        "outputId": "e91047d0-f828-4ef2-b0f0-52b736f0d2fc"
      },
      "outputs": [
        {
          "data": {
            "text/html": [
              "<div>\n",
              "<style scoped>\n",
              "    .dataframe tbody tr th:only-of-type {\n",
              "        vertical-align: middle;\n",
              "    }\n",
              "\n",
              "    .dataframe tbody tr th {\n",
              "        vertical-align: top;\n",
              "    }\n",
              "\n",
              "    .dataframe thead th {\n",
              "        text-align: right;\n",
              "    }\n",
              "</style>\n",
              "<table border=\"1\" class=\"dataframe\">\n",
              "  <thead>\n",
              "    <tr style=\"text-align: right;\">\n",
              "      <th></th>\n",
              "      <th>제품2</th>\n",
              "      <th>제품3</th>\n",
              "    </tr>\n",
              "    <tr>\n",
              "      <th>연도</th>\n",
              "      <th></th>\n",
              "      <th></th>\n",
              "    </tr>\n",
              "  </thead>\n",
              "  <tbody>\n",
              "    <tr>\n",
              "      <th>2015</th>\n",
              "      <td>150</td>\n",
              "      <td>NaN</td>\n",
              "    </tr>\n",
              "    <tr>\n",
              "      <th>2016</th>\n",
              "      <td>160</td>\n",
              "      <td>170.0</td>\n",
              "    </tr>\n",
              "    <tr>\n",
              "      <th>2017</th>\n",
              "      <td>200</td>\n",
              "      <td>100.0</td>\n",
              "    </tr>\n",
              "    <tr>\n",
              "      <th>2018</th>\n",
              "      <td>230</td>\n",
              "      <td>130.0</td>\n",
              "    </tr>\n",
              "    <tr>\n",
              "      <th>2019</th>\n",
              "      <td>250</td>\n",
              "      <td>140.0</td>\n",
              "    </tr>\n",
              "  </tbody>\n",
              "</table>\n",
              "</div>"
            ],
            "text/plain": [
              "      제품2    제품3\n",
              "연도              \n",
              "2015  150    NaN\n",
              "2016  160  170.0\n",
              "2017  200  100.0\n",
              "2018  230  130.0\n",
              "2019  250  140.0"
            ]
          },
          "execution_count": 121,
          "metadata": {},
          "output_type": "execute_result"
        }
      ],
      "source": [
        "df_copy2_index.dropna(axis=1,subset=[2016, 2019])"
      ]
    },
    {
      "cell_type": "code",
      "execution_count": null,
      "id": "823aa14d-17ea-4d36-b13c-daaa547a68a0",
      "metadata": {
        "id": "823aa14d-17ea-4d36-b13c-daaa547a68a0",
        "outputId": "95c0b5fd-1140-4357-d471-ada56af7f558"
      },
      "outputs": [
        {
          "data": {
            "text/html": [
              "<div>\n",
              "<style scoped>\n",
              "    .dataframe tbody tr th:only-of-type {\n",
              "        vertical-align: middle;\n",
              "    }\n",
              "\n",
              "    .dataframe tbody tr th {\n",
              "        vertical-align: top;\n",
              "    }\n",
              "\n",
              "    .dataframe thead th {\n",
              "        text-align: right;\n",
              "    }\n",
              "</style>\n",
              "<table border=\"1\" class=\"dataframe\">\n",
              "  <thead>\n",
              "    <tr style=\"text-align: right;\">\n",
              "      <th></th>\n",
              "      <th>연도</th>\n",
              "      <th>제품1</th>\n",
              "      <th>제품2</th>\n",
              "      <th>제품3</th>\n",
              "      <th>제품4</th>\n",
              "    </tr>\n",
              "  </thead>\n",
              "  <tbody>\n",
              "    <tr>\n",
              "      <th>0</th>\n",
              "      <td>2015</td>\n",
              "      <td>250.0</td>\n",
              "      <td>150</td>\n",
              "      <td>0.0</td>\n",
              "      <td>0.0</td>\n",
              "    </tr>\n",
              "    <tr>\n",
              "      <th>1</th>\n",
              "      <td>2016</td>\n",
              "      <td>200.0</td>\n",
              "      <td>160</td>\n",
              "      <td>170.0</td>\n",
              "      <td>0.0</td>\n",
              "    </tr>\n",
              "    <tr>\n",
              "      <th>2</th>\n",
              "      <td>2017</td>\n",
              "      <td>150.0</td>\n",
              "      <td>200</td>\n",
              "      <td>100.0</td>\n",
              "      <td>150.0</td>\n",
              "    </tr>\n",
              "    <tr>\n",
              "      <th>3</th>\n",
              "      <td>2018</td>\n",
              "      <td>120.0</td>\n",
              "      <td>230</td>\n",
              "      <td>130.0</td>\n",
              "      <td>170.0</td>\n",
              "    </tr>\n",
              "    <tr>\n",
              "      <th>4</th>\n",
              "      <td>2019</td>\n",
              "      <td>0.0</td>\n",
              "      <td>250</td>\n",
              "      <td>140.0</td>\n",
              "      <td>0.0</td>\n",
              "    </tr>\n",
              "  </tbody>\n",
              "</table>\n",
              "</div>"
            ],
            "text/plain": [
              "     연도    제품1  제품2    제품3    제품4\n",
              "0  2015  250.0  150    0.0    0.0\n",
              "1  2016  200.0  160  170.0    0.0\n",
              "2  2017  150.0  200  100.0  150.0\n",
              "3  2018  120.0  230  130.0  170.0\n",
              "4  2019    0.0  250  140.0    0.0"
            ]
          },
          "execution_count": 122,
          "metadata": {},
          "output_type": "execute_result"
        }
      ],
      "source": [
        "df.fillna(0)"
      ]
    },
    {
      "cell_type": "code",
      "execution_count": null,
      "id": "10740100-8954-476e-8c7d-ce7f8b44567c",
      "metadata": {
        "id": "10740100-8954-476e-8c7d-ce7f8b44567c",
        "outputId": "d3710d46-093b-48ee-b7be-9925a9ca4adb"
      },
      "outputs": [
        {
          "data": {
            "text/html": [
              "<div>\n",
              "<style scoped>\n",
              "    .dataframe tbody tr th:only-of-type {\n",
              "        vertical-align: middle;\n",
              "    }\n",
              "\n",
              "    .dataframe tbody tr th {\n",
              "        vertical-align: top;\n",
              "    }\n",
              "\n",
              "    .dataframe thead th {\n",
              "        text-align: right;\n",
              "    }\n",
              "</style>\n",
              "<table border=\"1\" class=\"dataframe\">\n",
              "  <thead>\n",
              "    <tr style=\"text-align: right;\">\n",
              "      <th></th>\n",
              "      <th>연도</th>\n",
              "      <th>제품1</th>\n",
              "      <th>제품2</th>\n",
              "      <th>제품3</th>\n",
              "      <th>제품4</th>\n",
              "    </tr>\n",
              "  </thead>\n",
              "  <tbody>\n",
              "    <tr>\n",
              "      <th>0</th>\n",
              "      <td>2015</td>\n",
              "      <td>250.0</td>\n",
              "      <td>150</td>\n",
              "      <td>NaN</td>\n",
              "      <td>NaN</td>\n",
              "    </tr>\n",
              "    <tr>\n",
              "      <th>1</th>\n",
              "      <td>2016</td>\n",
              "      <td>200.0</td>\n",
              "      <td>160</td>\n",
              "      <td>170.0</td>\n",
              "      <td>NaN</td>\n",
              "    </tr>\n",
              "    <tr>\n",
              "      <th>2</th>\n",
              "      <td>2017</td>\n",
              "      <td>150.0</td>\n",
              "      <td>200</td>\n",
              "      <td>100.0</td>\n",
              "      <td>150.0</td>\n",
              "    </tr>\n",
              "    <tr>\n",
              "      <th>3</th>\n",
              "      <td>2018</td>\n",
              "      <td>120.0</td>\n",
              "      <td>230</td>\n",
              "      <td>130.0</td>\n",
              "      <td>170.0</td>\n",
              "    </tr>\n",
              "    <tr>\n",
              "      <th>4</th>\n",
              "      <td>2019</td>\n",
              "      <td>NaN</td>\n",
              "      <td>250</td>\n",
              "      <td>140.0</td>\n",
              "      <td>NaN</td>\n",
              "    </tr>\n",
              "  </tbody>\n",
              "</table>\n",
              "</div>"
            ],
            "text/plain": [
              "     연도    제품1  제품2    제품3    제품4\n",
              "0  2015  250.0  150    NaN    NaN\n",
              "1  2016  200.0  160  170.0    NaN\n",
              "2  2017  150.0  200  100.0  150.0\n",
              "3  2018  120.0  230  130.0  170.0\n",
              "4  2019    NaN  250  140.0    NaN"
            ]
          },
          "execution_count": 123,
          "metadata": {},
          "output_type": "execute_result"
        }
      ],
      "source": [
        "df"
      ]
    },
    {
      "cell_type": "code",
      "execution_count": null,
      "id": "f19c8a47-7303-4b7c-84c6-20f6759ff172",
      "metadata": {
        "id": "f19c8a47-7303-4b7c-84c6-20f6759ff172",
        "outputId": "ac67662b-9fac-43ff-ebe8-be4125e75131"
      },
      "outputs": [
        {
          "name": "stderr",
          "output_type": "stream",
          "text": [
            "C:\\Users\\Administrator\\AppData\\Local\\Temp\\ipykernel_1424\\1193302488.py:1: FutureWarning: DataFrame.fillna with 'method' is deprecated and will raise in a future version. Use obj.ffill() or obj.bfill() instead.\n",
            "  df.fillna(method='ffill')\n"
          ]
        },
        {
          "data": {
            "text/html": [
              "<div>\n",
              "<style scoped>\n",
              "    .dataframe tbody tr th:only-of-type {\n",
              "        vertical-align: middle;\n",
              "    }\n",
              "\n",
              "    .dataframe tbody tr th {\n",
              "        vertical-align: top;\n",
              "    }\n",
              "\n",
              "    .dataframe thead th {\n",
              "        text-align: right;\n",
              "    }\n",
              "</style>\n",
              "<table border=\"1\" class=\"dataframe\">\n",
              "  <thead>\n",
              "    <tr style=\"text-align: right;\">\n",
              "      <th></th>\n",
              "      <th>연도</th>\n",
              "      <th>제품1</th>\n",
              "      <th>제품2</th>\n",
              "      <th>제품3</th>\n",
              "      <th>제품4</th>\n",
              "    </tr>\n",
              "  </thead>\n",
              "  <tbody>\n",
              "    <tr>\n",
              "      <th>0</th>\n",
              "      <td>2015</td>\n",
              "      <td>250.0</td>\n",
              "      <td>150</td>\n",
              "      <td>NaN</td>\n",
              "      <td>NaN</td>\n",
              "    </tr>\n",
              "    <tr>\n",
              "      <th>1</th>\n",
              "      <td>2016</td>\n",
              "      <td>200.0</td>\n",
              "      <td>160</td>\n",
              "      <td>170.0</td>\n",
              "      <td>NaN</td>\n",
              "    </tr>\n",
              "    <tr>\n",
              "      <th>2</th>\n",
              "      <td>2017</td>\n",
              "      <td>150.0</td>\n",
              "      <td>200</td>\n",
              "      <td>100.0</td>\n",
              "      <td>150.0</td>\n",
              "    </tr>\n",
              "    <tr>\n",
              "      <th>3</th>\n",
              "      <td>2018</td>\n",
              "      <td>120.0</td>\n",
              "      <td>230</td>\n",
              "      <td>130.0</td>\n",
              "      <td>170.0</td>\n",
              "    </tr>\n",
              "    <tr>\n",
              "      <th>4</th>\n",
              "      <td>2019</td>\n",
              "      <td>120.0</td>\n",
              "      <td>250</td>\n",
              "      <td>140.0</td>\n",
              "      <td>170.0</td>\n",
              "    </tr>\n",
              "  </tbody>\n",
              "</table>\n",
              "</div>"
            ],
            "text/plain": [
              "     연도    제품1  제품2    제품3    제품4\n",
              "0  2015  250.0  150    NaN    NaN\n",
              "1  2016  200.0  160  170.0    NaN\n",
              "2  2017  150.0  200  100.0  150.0\n",
              "3  2018  120.0  230  130.0  170.0\n",
              "4  2019  120.0  250  140.0  170.0"
            ]
          },
          "execution_count": 124,
          "metadata": {},
          "output_type": "execute_result"
        }
      ],
      "source": [
        "df.fillna(method='ffill')"
      ]
    },
    {
      "cell_type": "code",
      "execution_count": null,
      "id": "ea7d9fff-eb1a-4fc5-824a-b1f0793c0b62",
      "metadata": {
        "id": "ea7d9fff-eb1a-4fc5-824a-b1f0793c0b62",
        "outputId": "c961be06-8c56-4b15-b089-9ea88c48cff0"
      },
      "outputs": [
        {
          "data": {
            "text/html": [
              "<div>\n",
              "<style scoped>\n",
              "    .dataframe tbody tr th:only-of-type {\n",
              "        vertical-align: middle;\n",
              "    }\n",
              "\n",
              "    .dataframe tbody tr th {\n",
              "        vertical-align: top;\n",
              "    }\n",
              "\n",
              "    .dataframe thead th {\n",
              "        text-align: right;\n",
              "    }\n",
              "</style>\n",
              "<table border=\"1\" class=\"dataframe\">\n",
              "  <thead>\n",
              "    <tr style=\"text-align: right;\">\n",
              "      <th></th>\n",
              "      <th>연도</th>\n",
              "      <th>제품1</th>\n",
              "      <th>제품2</th>\n",
              "      <th>제품3</th>\n",
              "      <th>제품4</th>\n",
              "    </tr>\n",
              "  </thead>\n",
              "  <tbody>\n",
              "    <tr>\n",
              "      <th>0</th>\n",
              "      <td>2015</td>\n",
              "      <td>250.0</td>\n",
              "      <td>150</td>\n",
              "      <td>NaN</td>\n",
              "      <td>400.0</td>\n",
              "    </tr>\n",
              "    <tr>\n",
              "      <th>1</th>\n",
              "      <td>2016</td>\n",
              "      <td>200.0</td>\n",
              "      <td>160</td>\n",
              "      <td>170.0</td>\n",
              "      <td>400.0</td>\n",
              "    </tr>\n",
              "    <tr>\n",
              "      <th>2</th>\n",
              "      <td>2017</td>\n",
              "      <td>150.0</td>\n",
              "      <td>200</td>\n",
              "      <td>100.0</td>\n",
              "      <td>150.0</td>\n",
              "    </tr>\n",
              "    <tr>\n",
              "      <th>3</th>\n",
              "      <td>2018</td>\n",
              "      <td>120.0</td>\n",
              "      <td>230</td>\n",
              "      <td>130.0</td>\n",
              "      <td>170.0</td>\n",
              "    </tr>\n",
              "    <tr>\n",
              "      <th>4</th>\n",
              "      <td>2019</td>\n",
              "      <td>100.0</td>\n",
              "      <td>250</td>\n",
              "      <td>140.0</td>\n",
              "      <td>400.0</td>\n",
              "    </tr>\n",
              "  </tbody>\n",
              "</table>\n",
              "</div>"
            ],
            "text/plain": [
              "     연도    제품1  제품2    제품3    제품4\n",
              "0  2015  250.0  150    NaN  400.0\n",
              "1  2016  200.0  160  170.0  400.0\n",
              "2  2017  150.0  200  100.0  150.0\n",
              "3  2018  120.0  230  130.0  170.0\n",
              "4  2019  100.0  250  140.0  400.0"
            ]
          },
          "execution_count": 128,
          "metadata": {},
          "output_type": "execute_result"
        }
      ],
      "source": [
        "values = {'제품1': 100,  '제품4': 400}\n",
        "df.fillna(value=values)"
      ]
    },
    {
      "cell_type": "code",
      "execution_count": null,
      "id": "7f79126f-d05f-47de-9e35-41797eac05ce",
      "metadata": {
        "id": "7f79126f-d05f-47de-9e35-41797eac05ce",
        "outputId": "d907ddc6-ac3d-4398-b43a-fb48b9f18aa5"
      },
      "outputs": [
        {
          "data": {
            "text/html": [
              "<div>\n",
              "<style scoped>\n",
              "    .dataframe tbody tr th:only-of-type {\n",
              "        vertical-align: middle;\n",
              "    }\n",
              "\n",
              "    .dataframe tbody tr th {\n",
              "        vertical-align: top;\n",
              "    }\n",
              "\n",
              "    .dataframe thead th {\n",
              "        text-align: right;\n",
              "    }\n",
              "</style>\n",
              "<table border=\"1\" class=\"dataframe\">\n",
              "  <thead>\n",
              "    <tr style=\"text-align: right;\">\n",
              "      <th></th>\n",
              "      <th>연도</th>\n",
              "      <th>제품1</th>\n",
              "      <th>제품2</th>\n",
              "      <th>제품3</th>\n",
              "      <th>제품4</th>\n",
              "    </tr>\n",
              "  </thead>\n",
              "  <tbody>\n",
              "    <tr>\n",
              "      <th>0</th>\n",
              "      <td>2015</td>\n",
              "      <td>250.0</td>\n",
              "      <td>150</td>\n",
              "      <td>NaN</td>\n",
              "      <td>NaN</td>\n",
              "    </tr>\n",
              "    <tr>\n",
              "      <th>1</th>\n",
              "      <td>2016</td>\n",
              "      <td>200.0</td>\n",
              "      <td>160</td>\n",
              "      <td>170.0</td>\n",
              "      <td>NaN</td>\n",
              "    </tr>\n",
              "    <tr>\n",
              "      <th>2</th>\n",
              "      <td>2017</td>\n",
              "      <td>150.0</td>\n",
              "      <td>200</td>\n",
              "      <td>100.0</td>\n",
              "      <td>150.0</td>\n",
              "    </tr>\n",
              "    <tr>\n",
              "      <th>3</th>\n",
              "      <td>2018</td>\n",
              "      <td>120.0</td>\n",
              "      <td>230</td>\n",
              "      <td>130.0</td>\n",
              "      <td>170.0</td>\n",
              "    </tr>\n",
              "    <tr>\n",
              "      <th>4</th>\n",
              "      <td>2019</td>\n",
              "      <td>NaN</td>\n",
              "      <td>250</td>\n",
              "      <td>140.0</td>\n",
              "      <td>NaN</td>\n",
              "    </tr>\n",
              "  </tbody>\n",
              "</table>\n",
              "</div>"
            ],
            "text/plain": [
              "     연도    제품1  제품2    제품3    제품4\n",
              "0  2015  250.0  150    NaN    NaN\n",
              "1  2016  200.0  160  170.0    NaN\n",
              "2  2017  150.0  200  100.0  150.0\n",
              "3  2018  120.0  230  130.0  170.0\n",
              "4  2019    NaN  250  140.0    NaN"
            ]
          },
          "execution_count": 129,
          "metadata": {},
          "output_type": "execute_result"
        }
      ],
      "source": [
        "df"
      ]
    },
    {
      "cell_type": "markdown",
      "id": "cd1e94d3-e4e1-4fc1-a3b1-ab20516d6c0e",
      "metadata": {
        "id": "cd1e94d3-e4e1-4fc1-a3b1-ab20516d6c0e"
      },
      "source": [
        "## 데이터의 요약 및 재구성"
      ]
    },
    {
      "cell_type": "markdown",
      "id": "751ef75b-32e3-40e0-a054-08f1eef7a007",
      "metadata": {
        "id": "751ef75b-32e3-40e0-a054-08f1eef7a007"
      },
      "source": [
        "### 데이터의 구조 살펴보기"
      ]
    },
    {
      "cell_type": "code",
      "execution_count": null,
      "id": "0235f80d-a1f8-4978-af5b-b7ca07cb5072",
      "metadata": {
        "id": "0235f80d-a1f8-4978-af5b-b7ca07cb5072",
        "outputId": "43f3634d-1a2d-4273-f881-32fb5ccb1e2a"
      },
      "outputs": [
        {
          "data": {
            "text/html": [
              "<div>\n",
              "<style scoped>\n",
              "    .dataframe tbody tr th:only-of-type {\n",
              "        vertical-align: middle;\n",
              "    }\n",
              "\n",
              "    .dataframe tbody tr th {\n",
              "        vertical-align: top;\n",
              "    }\n",
              "\n",
              "    .dataframe thead th {\n",
              "        text-align: right;\n",
              "    }\n",
              "</style>\n",
              "<table border=\"1\" class=\"dataframe\">\n",
              "  <thead>\n",
              "    <tr style=\"text-align: right;\">\n",
              "      <th></th>\n",
              "      <th>매장명</th>\n",
              "      <th>제품종류</th>\n",
              "      <th>모델명</th>\n",
              "      <th>판매</th>\n",
              "      <th>재고</th>\n",
              "    </tr>\n",
              "  </thead>\n",
              "  <tbody>\n",
              "    <tr>\n",
              "      <th>0</th>\n",
              "      <td>A</td>\n",
              "      <td>스마트폰</td>\n",
              "      <td>S1</td>\n",
              "      <td>1</td>\n",
              "      <td>2</td>\n",
              "    </tr>\n",
              "    <tr>\n",
              "      <th>1</th>\n",
              "      <td>A</td>\n",
              "      <td>스마트폰</td>\n",
              "      <td>S2</td>\n",
              "      <td>2</td>\n",
              "      <td>5</td>\n",
              "    </tr>\n",
              "    <tr>\n",
              "      <th>2</th>\n",
              "      <td>A</td>\n",
              "      <td>TV</td>\n",
              "      <td>V1</td>\n",
              "      <td>3</td>\n",
              "      <td>5</td>\n",
              "    </tr>\n",
              "    <tr>\n",
              "      <th>3</th>\n",
              "      <td>B</td>\n",
              "      <td>스마트폰</td>\n",
              "      <td>S2</td>\n",
              "      <td>4</td>\n",
              "      <td>6</td>\n",
              "    </tr>\n",
              "    <tr>\n",
              "      <th>4</th>\n",
              "      <td>B</td>\n",
              "      <td>스마트폰</td>\n",
              "      <td>S1</td>\n",
              "      <td>5</td>\n",
              "      <td>8</td>\n",
              "    </tr>\n",
              "    <tr>\n",
              "      <th>5</th>\n",
              "      <td>B</td>\n",
              "      <td>TV</td>\n",
              "      <td>V1</td>\n",
              "      <td>6</td>\n",
              "      <td>9</td>\n",
              "    </tr>\n",
              "    <tr>\n",
              "      <th>6</th>\n",
              "      <td>C</td>\n",
              "      <td>스마트폰</td>\n",
              "      <td>S2</td>\n",
              "      <td>2</td>\n",
              "      <td>4</td>\n",
              "    </tr>\n",
              "    <tr>\n",
              "      <th>7</th>\n",
              "      <td>C</td>\n",
              "      <td>TV</td>\n",
              "      <td>V1</td>\n",
              "      <td>3</td>\n",
              "      <td>6</td>\n",
              "    </tr>\n",
              "    <tr>\n",
              "      <th>8</th>\n",
              "      <td>C</td>\n",
              "      <td>TV</td>\n",
              "      <td>V2</td>\n",
              "      <td>7</td>\n",
              "      <td>9</td>\n",
              "    </tr>\n",
              "  </tbody>\n",
              "</table>\n",
              "</div>"
            ],
            "text/plain": [
              "  매장명  제품종류 모델명  판매  재고\n",
              "0   A  스마트폰  S1   1   2\n",
              "1   A  스마트폰  S2   2   5\n",
              "2   A    TV  V1   3   5\n",
              "3   B  스마트폰  S2   4   6\n",
              "4   B  스마트폰  S1   5   8\n",
              "5   B    TV  V1   6   9\n",
              "6   C  스마트폰  S2   2   4\n",
              "7   C    TV  V1   3   6\n",
              "8   C    TV  V2   7   9"
            ]
          },
          "execution_count": 137,
          "metadata": {},
          "output_type": "execute_result"
        }
      ],
      "source": [
        "data_file = \"C:/excel/total_sales_data.csv\"\n",
        "df_sales=pd.read_csv(data_file, encoding='utf-8')\n",
        "df_sales"
      ]
    },
    {
      "cell_type": "code",
      "execution_count": null,
      "id": "9e1b13a6-2cc0-4380-b008-f78ae1c74c58",
      "metadata": {
        "id": "9e1b13a6-2cc0-4380-b008-f78ae1c74c58",
        "outputId": "a7e8f0d3-56ad-44fe-9b02-950ff1d37496"
      },
      "outputs": [
        {
          "data": {
            "text/html": [
              "<div>\n",
              "<style scoped>\n",
              "    .dataframe tbody tr th:only-of-type {\n",
              "        vertical-align: middle;\n",
              "    }\n",
              "\n",
              "    .dataframe tbody tr th {\n",
              "        vertical-align: top;\n",
              "    }\n",
              "\n",
              "    .dataframe thead th {\n",
              "        text-align: right;\n",
              "    }\n",
              "</style>\n",
              "<table border=\"1\" class=\"dataframe\">\n",
              "  <thead>\n",
              "    <tr style=\"text-align: right;\">\n",
              "      <th></th>\n",
              "      <th>제품종류</th>\n",
              "      <th>모델명</th>\n",
              "      <th>판매</th>\n",
              "      <th>재고</th>\n",
              "    </tr>\n",
              "    <tr>\n",
              "      <th>매장명</th>\n",
              "      <th></th>\n",
              "      <th></th>\n",
              "      <th></th>\n",
              "      <th></th>\n",
              "    </tr>\n",
              "  </thead>\n",
              "  <tbody>\n",
              "    <tr>\n",
              "      <th>A</th>\n",
              "      <td>스마트폰</td>\n",
              "      <td>S1</td>\n",
              "      <td>1</td>\n",
              "      <td>2</td>\n",
              "    </tr>\n",
              "    <tr>\n",
              "      <th>A</th>\n",
              "      <td>스마트폰</td>\n",
              "      <td>S2</td>\n",
              "      <td>2</td>\n",
              "      <td>5</td>\n",
              "    </tr>\n",
              "    <tr>\n",
              "      <th>A</th>\n",
              "      <td>TV</td>\n",
              "      <td>V1</td>\n",
              "      <td>3</td>\n",
              "      <td>5</td>\n",
              "    </tr>\n",
              "    <tr>\n",
              "      <th>B</th>\n",
              "      <td>스마트폰</td>\n",
              "      <td>S2</td>\n",
              "      <td>4</td>\n",
              "      <td>6</td>\n",
              "    </tr>\n",
              "    <tr>\n",
              "      <th>B</th>\n",
              "      <td>스마트폰</td>\n",
              "      <td>S1</td>\n",
              "      <td>5</td>\n",
              "      <td>8</td>\n",
              "    </tr>\n",
              "    <tr>\n",
              "      <th>B</th>\n",
              "      <td>TV</td>\n",
              "      <td>V1</td>\n",
              "      <td>6</td>\n",
              "      <td>9</td>\n",
              "    </tr>\n",
              "    <tr>\n",
              "      <th>C</th>\n",
              "      <td>스마트폰</td>\n",
              "      <td>S2</td>\n",
              "      <td>2</td>\n",
              "      <td>4</td>\n",
              "    </tr>\n",
              "    <tr>\n",
              "      <th>C</th>\n",
              "      <td>TV</td>\n",
              "      <td>V1</td>\n",
              "      <td>3</td>\n",
              "      <td>6</td>\n",
              "    </tr>\n",
              "    <tr>\n",
              "      <th>C</th>\n",
              "      <td>TV</td>\n",
              "      <td>V2</td>\n",
              "      <td>7</td>\n",
              "      <td>9</td>\n",
              "    </tr>\n",
              "  </tbody>\n",
              "</table>\n",
              "</div>"
            ],
            "text/plain": [
              "     제품종류 모델명  판매  재고\n",
              "매장명                  \n",
              "A    스마트폰  S1   1   2\n",
              "A    스마트폰  S2   2   5\n",
              "A      TV  V1   3   5\n",
              "B    스마트폰  S2   4   6\n",
              "B    스마트폰  S1   5   8\n",
              "B      TV  V1   6   9\n",
              "C    스마트폰  S2   2   4\n",
              "C      TV  V1   3   6\n",
              "C      TV  V2   7   9"
            ]
          },
          "execution_count": 138,
          "metadata": {},
          "output_type": "execute_result"
        }
      ],
      "source": [
        "df_sales.set_index('매장명')"
      ]
    },
    {
      "cell_type": "code",
      "execution_count": null,
      "id": "2d780605-3e9b-4b5c-af5c-e270bad41649",
      "metadata": {
        "id": "2d780605-3e9b-4b5c-af5c-e270bad41649",
        "outputId": "5e77719d-18c9-4d79-945d-87e7cb169053"
      },
      "outputs": [
        {
          "data": {
            "text/plain": [
              "Index(['매장명', '제품종류', '모델명', '판매', '재고'], dtype='object')"
            ]
          },
          "execution_count": 139,
          "metadata": {},
          "output_type": "execute_result"
        }
      ],
      "source": [
        "df_sales.columns"
      ]
    },
    {
      "cell_type": "code",
      "execution_count": null,
      "id": "3fb3c9ba-05c8-40b3-96cc-c64a8150a560",
      "metadata": {
        "id": "3fb3c9ba-05c8-40b3-96cc-c64a8150a560",
        "outputId": "4b64fc87-f3dd-4f76-db6b-1617acfc44b0"
      },
      "outputs": [
        {
          "data": {
            "text/plain": [
              "0    S1\n",
              "1    S2\n",
              "2    V1\n",
              "3    S2\n",
              "4    S1\n",
              "5    V1\n",
              "6    S2\n",
              "7    V1\n",
              "8    V2\n",
              "Name: 모델명, dtype: object"
            ]
          },
          "execution_count": 141,
          "metadata": {},
          "output_type": "execute_result"
        }
      ],
      "source": [
        "df_sales.모델명"
      ]
    },
    {
      "cell_type": "code",
      "execution_count": null,
      "id": "392c0bec-384d-44c9-91f7-53f579f88b16",
      "metadata": {
        "id": "392c0bec-384d-44c9-91f7-53f579f88b16",
        "outputId": "c00efcc1-873d-4086-bee4-de4e4e880676"
      },
      "outputs": [
        {
          "data": {
            "text/html": [
              "<div>\n",
              "<style scoped>\n",
              "    .dataframe tbody tr th:only-of-type {\n",
              "        vertical-align: middle;\n",
              "    }\n",
              "\n",
              "    .dataframe tbody tr th {\n",
              "        vertical-align: top;\n",
              "    }\n",
              "\n",
              "    .dataframe thead th {\n",
              "        text-align: right;\n",
              "    }\n",
              "</style>\n",
              "<table border=\"1\" class=\"dataframe\">\n",
              "  <thead>\n",
              "    <tr style=\"text-align: right;\">\n",
              "      <th></th>\n",
              "      <th>판매</th>\n",
              "      <th>재고</th>\n",
              "    </tr>\n",
              "  </thead>\n",
              "  <tbody>\n",
              "    <tr>\n",
              "      <th>count</th>\n",
              "      <td>9.000000</td>\n",
              "      <td>9.000000</td>\n",
              "    </tr>\n",
              "    <tr>\n",
              "      <th>mean</th>\n",
              "      <td>3.666667</td>\n",
              "      <td>6.000000</td>\n",
              "    </tr>\n",
              "    <tr>\n",
              "      <th>std</th>\n",
              "      <td>2.000000</td>\n",
              "      <td>2.345208</td>\n",
              "    </tr>\n",
              "    <tr>\n",
              "      <th>min</th>\n",
              "      <td>1.000000</td>\n",
              "      <td>2.000000</td>\n",
              "    </tr>\n",
              "    <tr>\n",
              "      <th>25%</th>\n",
              "      <td>2.000000</td>\n",
              "      <td>5.000000</td>\n",
              "    </tr>\n",
              "    <tr>\n",
              "      <th>50%</th>\n",
              "      <td>3.000000</td>\n",
              "      <td>6.000000</td>\n",
              "    </tr>\n",
              "    <tr>\n",
              "      <th>75%</th>\n",
              "      <td>5.000000</td>\n",
              "      <td>8.000000</td>\n",
              "    </tr>\n",
              "    <tr>\n",
              "      <th>max</th>\n",
              "      <td>7.000000</td>\n",
              "      <td>9.000000</td>\n",
              "    </tr>\n",
              "  </tbody>\n",
              "</table>\n",
              "</div>"
            ],
            "text/plain": [
              "             판매        재고\n",
              "count  9.000000  9.000000\n",
              "mean   3.666667  6.000000\n",
              "std    2.000000  2.345208\n",
              "min    1.000000  2.000000\n",
              "25%    2.000000  5.000000\n",
              "50%    3.000000  6.000000\n",
              "75%    5.000000  8.000000\n",
              "max    7.000000  9.000000"
            ]
          },
          "execution_count": 143,
          "metadata": {},
          "output_type": "execute_result"
        }
      ],
      "source": [
        "df_sales.describe()"
      ]
    },
    {
      "cell_type": "code",
      "execution_count": null,
      "id": "007b84fd-df16-4915-a4c1-ce27469db5eb",
      "metadata": {
        "id": "007b84fd-df16-4915-a4c1-ce27469db5eb",
        "outputId": "5e8b1c66-7fc8-4c57-83bf-88ad251e07c8"
      },
      "outputs": [
        {
          "name": "stdout",
          "output_type": "stream",
          "text": [
            "<class 'pandas.core.frame.DataFrame'>\n",
            "RangeIndex: 9 entries, 0 to 8\n",
            "Data columns (total 5 columns):\n",
            " #   Column  Non-Null Count  Dtype \n",
            "---  ------  --------------  ----- \n",
            " 0   매장명     9 non-null      object\n",
            " 1   제품종류    9 non-null      object\n",
            " 2   모델명     9 non-null      object\n",
            " 3   판매      9 non-null      int64 \n",
            " 4   재고      9 non-null      int64 \n",
            "dtypes: int64(2), object(3)\n",
            "memory usage: 492.0+ bytes\n"
          ]
        }
      ],
      "source": [
        "df_sales.info()"
      ]
    },
    {
      "cell_type": "code",
      "execution_count": null,
      "id": "40ccec25-37aa-40d3-bb0d-580a3054740f",
      "metadata": {
        "id": "40ccec25-37aa-40d3-bb0d-580a3054740f",
        "outputId": "ca17e40c-998e-4d06-e204-33099ec85a48"
      },
      "outputs": [
        {
          "data": {
            "text/plain": [
              "매장명\n",
              "A    3\n",
              "B    3\n",
              "C    3\n",
              "Name: count, dtype: int64"
            ]
          },
          "execution_count": 146,
          "metadata": {},
          "output_type": "execute_result"
        }
      ],
      "source": [
        "df_sales.매장명.value_counts()"
      ]
    },
    {
      "cell_type": "code",
      "execution_count": null,
      "id": "bc40717d-b6bf-44ab-8cd4-da1eae461bdf",
      "metadata": {
        "id": "bc40717d-b6bf-44ab-8cd4-da1eae461bdf"
      },
      "outputs": [],
      "source": [
        "#df_sales.pivot_table(index)"
      ]
    }
  ],
  "metadata": {
    "kernelspec": {
      "display_name": "Python 3 (ipykernel)",
      "language": "python",
      "name": "python3"
    },
    "language_info": {
      "codemirror_mode": {
        "name": "ipython",
        "version": 3
      },
      "file_extension": ".py",
      "mimetype": "text/x-python",
      "name": "python",
      "nbconvert_exporter": "python",
      "pygments_lexer": "ipython3",
      "version": "3.11.7"
    },
    "colab": {
      "provenance": [],
      "include_colab_link": true
    }
  },
  "nbformat": 4,
  "nbformat_minor": 5
}